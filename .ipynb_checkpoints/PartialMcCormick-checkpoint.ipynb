{
 "cells": [
  {
   "cell_type": "code",
   "execution_count": 1,
   "metadata": {},
   "outputs": [],
   "source": [
    "import numpy as np\n",
    "import cvxpy\n",
    "import matplotlib.pyplot as plt\n",
    "#from DrawingUtils import plot_extreme_points,graph_plane,PlotPolytope\n",
    "import random as rnd\n",
    "import time\n",
    "from IPython.display import clear_output\n",
    "\n",
    "%matplotlib notebook\n",
    "%matplotlib inline\n",
    "%config InlineBackend.close_figures=True"
   ]
  },
  {
   "cell_type": "markdown",
   "metadata": {},
   "source": [
    "# Partial McCormick Inequalities"
   ]
  },
  {
   "cell_type": "markdown",
   "metadata": {},
   "source": [
    "We consider some subset of the inequalities so that there are only 2 at a time. We test this with the Lotka-Volterra implementation."
   ]
  },
  {
   "cell_type": "markdown",
   "metadata": {},
   "source": [
    "# Core functions"
   ]
  },
  {
   "cell_type": "markdown",
   "metadata": {},
   "source": [
    "## Constructing linear constraints using McCormick envelopes"
   ]
  },
  {
   "cell_type": "code",
   "execution_count": 2,
   "metadata": {},
   "outputs": [],
   "source": [
    "def McCormick(w,x,y,x_bounds,y_bounds,whichBounds=[True,True,True,True]):\n",
    "    xL,xU = x_bounds\n",
    "    yL,yU = y_bounds\n",
    "\n",
    "    c = []\n",
    "    if whichBounds[0]: c.append(w >= xL*y + x*yL - xL*yL)\n",
    "    if whichBounds[1]: c.append(w >= xU*y + x*yU - xU*yU)\n",
    "    if whichBounds[2]: c.append(w <= xU*y + x*yL - xU*yL)\n",
    "    if whichBounds[3]: c.append(w <= x*yU + xL*y - xL*yU)\n",
    "    \n",
    "    return c"
   ]
  },
  {
   "cell_type": "markdown",
   "metadata": {},
   "source": [
    "## Solving linear program"
   ]
  },
  {
   "cell_type": "code",
   "execution_count": 3,
   "metadata": {},
   "outputs": [],
   "source": [
    "def bounds(x,constraints,Npast=0):\n",
    "\n",
    "    objective_max = cvxpy.Maximize(x)\n",
    "    problem_maximum = cvxpy.Problem(objective_max,constraints[-Npast:])\n",
    "    value_max = problem_maximum.solve(solver=cvxpy.GUROBI)\n",
    "\n",
    "    objective_min = cvxpy.Minimize(x)\n",
    "    problem_minimum = cvxpy.Problem(objective_min,constraints[-Npast:])\n",
    "    value_min = problem_minimum.solve(solver=cvxpy.GUROBI)\n",
    "\n",
    "    return (value_min,value_max)"
   ]
  },
  {
   "cell_type": "code",
   "execution_count": 4,
   "metadata": {},
   "outputs": [],
   "source": [
    "def vanDerPolConstraints(T=1,variables=[],constants={},constraints=[],control_bounds=[],Npast=0,whichBounds=[True,True,True,True],plot=True):\n",
    "    times = []\n",
    "    ss = []\n",
    "    for t in range(T):\n",
    "        tt = time.time()\n",
    "        \n",
    "        x = variables[t][\"x\"]\n",
    "        x_bounds = bounds(x,constraints,Npast=Npast)\n",
    "        y = variables[t][\"y\"]\n",
    "        y_bounds = bounds(y,constraints,Npast=Npast)\n",
    "\n",
    "        ######### lil plot\n",
    "        xL,xU = x_bounds\n",
    "        yL,yU = y_bounds\n",
    "#         clear_output(wait=True)\n",
    "        if plot:\n",
    "            fig = plt.figure(1)\n",
    "            if t>0: \n",
    "                #plt.clf()\n",
    "                plt.plot([x_lw_b,x_lw_b,x_up_b,x_up_b,x_lw_b],[y_lw_b,y_up_b,y_up_b,y_lw_b,y_lw_b],'b')\n",
    "                plt.plot([xL,xL,xU,xU,xL],[yL,yU,yU,yL,yL],'k')\n",
    "                # print(\"x_b: \",x_bounds)\n",
    "                # print(\"y_b: \",y_bounds)\n",
    "            fig.canvas.draw()   # draw\n",
    "            plt.pause(1.01)\n",
    "        box_size = (xU-xL)*(yU-yL)\n",
    "        ss.append(box_size)\n",
    "        ########\n",
    "        \n",
    "        u = variables[t][\"u\"]\n",
    "        u_bounds = control_bounds[t]\n",
    "        constraints.append(u <= u_bounds[1])\n",
    "        constraints.append(u >= u_bounds[0])\n",
    "\n",
    "        n = variables[t][\"n\"]\n",
    "        constraints.extend(McCormick(n,x,x,x_bounds,x_bounds,whichBounds=whichBounds))\n",
    "\n",
    "        v = variables[t][\"v\"]\n",
    "        constraints.append(v == 1 - n)\n",
    "        v_bounds = bounds(v,constraints,Npast=Npast)\n",
    "\n",
    "        w = variables[t][\"w\"]\n",
    "        constraints.extend(McCormick(w,y,v,y_bounds,v_bounds,whichBounds=whichBounds))\n",
    "        w_bounds = bounds(w,constraints,Npast=Npast)        \n",
    "\n",
    "        z = variables[t][\"z\"]\n",
    "        constraints.extend(McCormick(z,u,w,u_bounds,w_bounds,whichBounds=whichBounds)) \n",
    "\n",
    "        y_new = variables[t+1][\"y\"]\n",
    "        constraints.append(y_new == z*del_t - x*del_t + y)\n",
    "\n",
    "        x_new = variables[t+1][\"x\"]\n",
    "        constraints.append(x_new == y*del_t + x)\n",
    "\n",
    "        tt = time.time() - tt\n",
    "        times.append(tt)\n",
    "        \n",
    "        #print(\"Time for \",t,\"-th loop: \",tt)\n",
    "\n",
    "    # plt.figure(2)\n",
    "    # plt.plot(times,'r*')\n",
    "    \n",
    "    return variables,constraints,ss"
   ]
  },
  {
   "cell_type": "markdown",
   "metadata": {},
   "source": [
    "## Initial Setup"
   ]
  },
  {
   "cell_type": "code",
   "execution_count": 5,
   "metadata": {},
   "outputs": [],
   "source": [
    "# horizon and forward Euler time step\n",
    "T = 100\n",
    "del_t = -0.1\n",
    "\n",
    "# box constraints for initial state\n",
    "x0 = 1\n",
    "y0 = 1\n",
    "x_dev = 0.01\n",
    "y_dev = 0.01\n",
    "\n",
    "x_up_b = x_dev + x0\n",
    "x_lw_b = -1*x_dev + x0\n",
    "y_up_b = y_dev + y0\n",
    "y_lw_b = -1*y_dev + y0\n",
    "\n",
    "bounds_set = [\n",
    "    [True,True,True,True],\n",
    "    [True,False,True,False],\n",
    "    [True,False,False,True],\n",
    "    [False,True,True,False],\n",
    "    [False,True,False,True]\n",
    "]\n",
    "bounds_type = {0:\"All\", 1:\"Firsts\", 2:\"First-Second\", 3:\"Second-First\", 4:\"Seconds\"}"
   ]
  },
  {
   "cell_type": "markdown",
   "metadata": {},
   "source": [
    "## Generate plots for different subsets of McCormick inequalities"
   ]
  },
  {
   "cell_type": "code",
   "execution_count": 6,
   "metadata": {},
   "outputs": [
    {
     "name": "stdout",
     "output_type": "stream",
     "text": [
      "Academic license - for non-commercial use only\n"
     ]
    }
   ],
   "source": [
    "c = {}\n",
    "i = 0\n",
    "sizes = {}\n",
    "\n",
    "for b in bounds_set:\n",
    "    variables = [{\"u\":cvxpy.Variable(),\"x\":cvxpy.Variable(),\"y\":cvxpy.Variable(),\"z\":cvxpy.Variable(),\"w\":cvxpy.Variable(),\"v\":cvxpy.Variable(),\"n\":cvxpy.Variable()} for t in range(T+1)]\n",
    "\n",
    "    x = variables[0][\"x\"]\n",
    "    y = variables[0][\"y\"]\n",
    "\n",
    "    constraints = []\n",
    "    constraints.append(x >= x_lw_b)\n",
    "    constraints.append(x <= x_up_b)\n",
    "    constraints.append(y >= y_lw_b)\n",
    "    constraints.append(y <= y_up_b)\n",
    "\n",
    "    control_bounds = [(0.2,1.0) for t in range(T)]\n",
    "\n",
    "    variables,constraints,ss = vanDerPolConstraints(T,variables,c,constraints,control_bounds,whichBounds=b,plot=False)\n",
    "    \n",
    "    xL,xU = bounds(variables[-1][\"x\"],constraints)\n",
    "    yL,yU = bounds(variables[-1][\"y\"],constraints)\n",
    "    \n",
    "    box_size = (xU-xL)*(yU-yL)\n",
    "    ss.append(box_size)\n",
    "    \n",
    "    sizes[i] = ss\n",
    "\n",
    "    i += 1"
   ]
  },
  {
   "cell_type": "code",
   "execution_count": 7,
   "metadata": {},
   "outputs": [
    {
     "data": {
      "image/png": "[encoded data removed]",
      "text/plain": [
       "<Figure size 720x720 with 1 Axes>"
      ]
     },
     "metadata": {
      "needs_background": "light"
     },
     "output_type": "display_data"
    }
   ],
   "source": [
    "plt.figure(figsize=(10,10))\n",
    "for i in range(len(bounds_set)):\n",
    "    plt.plot(list(range(T+1)),sizes[i],label=bounds_type[i])\n",
    "plt.legend()\n",
    "plt.show()"
   ]
  },
  {
   "cell_type": "code",
   "execution_count": null,
   "metadata": {},
   "outputs": [],
   "source": []
  }
 ],
 "metadata": {
  "kernelspec": {
   "display_name": "Python 3",
   "language": "python",
   "name": "python3"
  },
  "language_info": {
   "codemirror_mode": {
    "name": "ipython",
    "version": 3
   },
   "file_extension": ".py",
   "mimetype": "text/x-python",
   "name": "python",
   "nbconvert_exporter": "python",
   "pygments_lexer": "ipython3",
   "version": "3.7.4"
  }
 },
 "nbformat": 4,
 "nbformat_minor": 4
}
