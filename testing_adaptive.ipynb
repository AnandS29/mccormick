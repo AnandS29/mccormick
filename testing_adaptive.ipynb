{
 "cells": [
  {
   "cell_type": "code",
   "execution_count": 1,
   "metadata": {},
   "outputs": [],
   "source": [
    "from constraints import *\n",
    "from helper import *"
   ]
  },
  {
   "cell_type": "code",
   "execution_count": 2,
   "metadata": {},
   "outputs": [],
   "source": [
    "def forwardEulerDC(init,constants,plot=False, control_bounds=(-0.1,0.1)):\n",
    "    x0, y0, theta0 = init[0], init[1], init[2]\n",
    "    \n",
    "    T = constants[\"T\"]\n",
    "    del_t = constants[\"del_t\"]\n",
    "    V = constants[\"V\"]\n",
    "    xs, ys, thetas = [x0], [y0], [theta0]\n",
    "    x,y,theta = x0, y0, theta0\n",
    "    for t in range(T):\n",
    "        u_t = np.random.uniform(control_bounds[0],control_bounds[1])\n",
    "        x, y, theta = V*np.cos(theta)*del_t + x, V*np.sin(theta)*del_t + y, u_t*del_t + theta\n",
    "        xs.append(x)\n",
    "        ys.append(y)\n",
    "        thetas.append(theta)\n",
    "        \n",
    "    traj = [(xs[i],ys[i],thetas[i]) for i in range(len(xs))]\n",
    "    return traj\n",
    "\n",
    "def forwardEulerDC_control(init,constants,plot=False):\n",
    "    x0, y0, theta0 = init[0], init[1], init[2]\n",
    "    \n",
    "    T = constants[\"T\"]\n",
    "    del_t = constants[\"del_t\"]\n",
    "    V = constants[\"V\"]\n",
    "    xs, ys, thetas,us = [], [], [], []\n",
    "    x,y,theta = x0, y0, theta0\n",
    "    for t in range(T):\n",
    "        u_t = np.random.uniform(-1,1)\n",
    "        us.append(u_t)\n",
    "        xs.append(x)\n",
    "        ys.append(y)\n",
    "        thetas.append(theta)\n",
    "        x, y, theta = V*np.cos(theta)*del_t + x, V*np.sin(theta)*del_t + y, u_t*del_t + theta\n",
    "        \n",
    "    traj = [(xs[i],ys[i],thetas[i],us[i]) for i in range(len(xs))]\n",
    "    return traj"
   ]
  },
  {
   "cell_type": "code",
   "execution_count": 3,
   "metadata": {},
   "outputs": [],
   "source": [
    "# horizon and forward Euler time step\n",
    "T = 10\n",
    "del_t = 0.1\n",
    "\n",
    "# box constraints for initial state\n",
    "x0 = 1\n",
    "y0 = 1\n",
    "theta0 = 1\n",
    "x_dev = 0.01\n",
    "y_dev = 0.01\n",
    "theta_dev = 0.01\n",
    "\n",
    "x_up_b = x_dev + x0\n",
    "x_lw_b = -1*x_dev + x0\n",
    "y_up_b = y_dev + y0\n",
    "y_lw_b = -1*y_dev + y0\n",
    "theta_up_b = theta_dev + theta0\n",
    "theta_lw_b = -1*theta_dev + theta0\n",
    "\n",
    "V = 1\n",
    "\n",
    "# constants for dynamics\n",
    "constants = {\"T\":T, \"del_t\":del_t,\n",
    "             \"x0\":x0, \"y0\":y0, \"theta0\":theta0, \"V\":V}\n",
    "\n",
    "delt = 0.5\n",
    "control_bounds = [np.pi-delt,np.pi+delt]\n",
    "\n",
    "x_range, y_range, theta_range = [x0 - x_dev, x0 + x_dev], [y0 - y_dev, y0 + y_dev], [theta0 - theta_dev, theta0 + theta_dev]"
   ]
  },
  {
   "cell_type": "code",
   "execution_count": 4,
   "metadata": {},
   "outputs": [
    {
     "name": "stdout",
     "output_type": "stream",
     "text": [
      "Number Valid: 2999995\n",
      "Time:  3\n",
      "(1.0715146476675401, 1.2923776795850008, 2.0094644559161012)\n",
      "([0.9627233031281832, 1.1960581153381633], [1.2684937251524548, 1.2921374918026713], [1.782477796076938, 2.102477796076938])\n",
      "1\n",
      "\n",
      "False\n"
     ]
    },
    {
     "data": {
      "image/png": "[encoded data removed]",
      "text/plain": [
       "<Figure size 432x288 with 1 Axes>"
      ]
     },
     "metadata": {
      "needs_background": "light"
     },
     "output_type": "display_data"
    }
   ],
   "source": [
    "areas_fast = []\n",
    "times_fast = []\n",
    "boxes_fast = []\n",
    "\n",
    "x0_bounds = BoxConstraints(x_lw_b,x_up_b)\n",
    "y0_bounds = BoxConstraints(y_lw_b,y_up_b)\n",
    "theta0_bounds = BoxConstraints(theta_lw_b,theta_up_b)\n",
    "u0_bounds = BoxConstraints(control_bounds[0],control_bounds[1])\n",
    "\n",
    "var_bounds = {\"x\":x0_bounds, \"y\":y0_bounds, \"theta\":theta0_bounds, \"u\":u0_bounds}\n",
    "\n",
    "x_0_coeffs = {\"x\":1, \"y\":0, \"theta\":0, \"u\":0, \"_const\":0}\n",
    "x_0 = LinearConstraints(Line(x_0_coeffs.copy()), Line(x_0_coeffs.copy()),var_bounds)\n",
    "\n",
    "y_0_coeffs = {\"x\":0, \"y\":1, \"theta\":0, \"u\":0, \"_const\":0}\n",
    "y_0 = LinearConstraints(Line(y_0_coeffs.copy()), Line(y_0_coeffs.copy()),var_bounds)\n",
    "\n",
    "theta_0_coeffs = {\"x\":0, \"y\":0, \"theta\":1, \"u\":0, \"_const\":0}\n",
    "theta_0 = LinearConstraints(Line(theta_0_coeffs.copy()), Line(theta_0_coeffs.copy()),var_bounds)\n",
    "\n",
    "u_0_coeffs = {\"x\":0, \"y\":0, \"theta\":0, \"u\":1, \"_const\":0}\n",
    "u_0 = LinearConstraints(Line(u_0_coeffs.copy()), Line(u_0_coeffs.copy()),var_bounds)\n",
    "\n",
    "for t in range(constants[\"T\"]):\n",
    "    tt = time.time()\n",
    "    V = constants[\"V\"]\n",
    "    box_x, box_y, box_theta = x_0.eval_box(), y_0.eval_box(), theta_0.eval_box()\n",
    "    areas_fast.append((box_x.upper-box_x.lower)*(box_y.upper-box_y.lower))\n",
    "    b = ([box_x.lower,box_x.upper],[box_y.lower,box_y.upper],[box_theta.lower,box_theta.upper])\n",
    "    boxes_fast.append(b)\n",
    "    \n",
    "    x_temp = theta_0.cos(adaptive=True).mult_const(constants[\"del_t\"]*V).add(x_0)\n",
    "    y_temp = theta_0.sin(adaptive=True).mult_const(constants[\"del_t\"]*V).add(y_0)\n",
    "    theta_temp = u_0.mult_const(constants[\"del_t\"]).add(theta_0)\n",
    "    x_0, y_0, theta_0 = x_temp, y_temp, theta_temp\n",
    "    \n",
    "    tt = time.time() - tt\n",
    "    times_fast.append(tt)\n",
    "\n",
    "fe = lambda init,constants,plot: forwardEulerDC(init,constants,plot,control_bounds=(control_bounds[0],control_bounds[1]))\n",
    "# print(np.pi/2, np.pi, np.pi*1.5)\n",
    "print(verify_valid_boxes(boxes_fast,[x_range,y_range,theta_range],n=100000,forwardEuler=fe,constants=constants,debug=True))\n",
    "\n"
   ]
  },
  {
   "cell_type": "code",
   "execution_count": 4,
   "metadata": {},
   "outputs": [],
   "source": [
    "def DubinsConstraints(T=1,variables=[],constraints=[],control_bounds=[],Npast=0, use_convex=False, constants={}, debug=False):\n",
    "    times = []\n",
    "    ss = []\n",
    "    boxes = []\n",
    "    del_t = constants[\"del_t\"]\n",
    "    for t in range(T):\n",
    "        tt = time.time()\n",
    "        \n",
    "        x = variables[t][\"x\"]\n",
    "        x_bounds = bounds(x,constraints,Npast=Npast)\n",
    "        y = variables[t][\"y\"]\n",
    "        y_bounds = bounds(y,constraints,Npast=Npast)\n",
    "        theta = variables[t][\"theta\"]\n",
    "        theta_bounds = bounds(theta,constraints,Npast=Npast)\n",
    "        xL,xU = x_bounds\n",
    "        yL,yU = y_bounds\n",
    "        thetaL,thetaU = theta_bounds\n",
    "        b = ([xL,xU],[yL,yU],[thetaL,thetaU])\n",
    "        boxes.append(b)\n",
    "        if t == 1 and debug: print(b)\n",
    "        ss.append((xU-xL)*(yU-yL))\n",
    "        \n",
    "        # del_t*u\n",
    "        u = variables[t][\"u\"]\n",
    "        constraints.append(u <= control_bounds[0][1]*del_t)\n",
    "        constraints.append(u >= control_bounds[0][0]*del_t)\n",
    "        \n",
    "        # cos\n",
    "        c1 = variables[t][\"c1\"]\n",
    "        constraints.extend(cos_adaptive_cvx(c1,theta,theta_bounds,debug=(t==0 and debug)))\n",
    "        \n",
    "        # V*del_t*cosine\n",
    "        c = variables[t][\"c\"]\n",
    "        constraints.append(c == constants[\"V\"]*del_t*c1)\n",
    "        \n",
    "        # sin\n",
    "        s1 = variables[t][\"s1\"]\n",
    "        constraints.extend(sin_adaptive_cvx(s1,theta,theta_bounds,debug=(t==0 and debug)))\n",
    "        \n",
    "        # V*del_t*sine\n",
    "        s = variables[t][\"s\"]\n",
    "        constraints.append(s == constants[\"V\"]*del_t*s1)\n",
    "        \n",
    "        x_new = variables[t+1][\"x\"]\n",
    "        constraints.append(x_new == c + x)\n",
    "        \n",
    "        y_new = variables[t+1][\"y\"]\n",
    "        constraints.append(y_new == s + y)\n",
    "        \n",
    "        theta_new = variables[t+1][\"theta\"]\n",
    "        constraints.append(theta_new == u + theta)\n",
    "\n",
    "        tt = time.time() - tt\n",
    "        times.append(tt)\n",
    "\n",
    "    \n",
    "    return variables,constraints, times, ss, boxes"
   ]
  },
  {
   "cell_type": "code",
   "execution_count": 5,
   "metadata": {},
   "outputs": [
    {
     "name": "stdout",
     "output_type": "stream",
     "text": [
      "cos(x) lower:  {'_const': 1.3817322513402446, 'x_cos': -0.8414569603618323}\n",
      "cos(x) upper:  {'_const': 1.3817732906760352, 'x_cos': -0.8414709848078954}\n",
      "sin(x) lower:  {'_const': 0.3011356107350698, 'x_sin': 0.5402933008748848}\n",
      "sin(x) upper:  {'_const': 0.3011686789397551, 'x_sin': 0.5403023058681414}\n",
      "([1.0431860721595478, 1.0648717015492986], [1.0736025978911343, 1.094687400755581], [1.2541592659735075, 1.374159264746803])\n",
      "10000\n",
      "Number Valid: 300000 True True\n",
      "True\n"
     ]
    },
    {
     "data": {
      "image/png": "[encoded data removed]",
      "text/plain": [
       "<Figure size 432x288 with 1 Axes>"
      ]
     },
     "metadata": {
      "needs_background": "light"
     },
     "output_type": "display_data"
    }
   ],
   "source": [
    "variables = [{\"u\":cvxpy.Variable(),\"c1\":cvxpy.Variable(),\"s1\":cvxpy.Variable(),\"c\":cvxpy.Variable(),\"s\":cvxpy.Variable(),\"x\":cvxpy.Variable(),\"y\":cvxpy.Variable(),\"theta\":cvxpy.Variable()} for t in range(T+1)]\n",
    "\n",
    "# plt.figure(2)\n",
    "# plt.plot([x_lw_b,x_lw_b,x_up_b,x_up_b,x_lw_b],[y_lw_b,y_up_b,y_up_b,y_lw_b,y_lw_b],'b')\n",
    "\n",
    "x = variables[0][\"x\"]\n",
    "y = variables[0][\"y\"]\n",
    "theta = variables[0][\"theta\"]\n",
    "\n",
    "constraints = []\n",
    "constraints.append(x >= x_lw_b)\n",
    "constraints.append(x <= x_up_b)\n",
    "constraints.append(y >= y_lw_b)\n",
    "constraints.append(y <= y_up_b)\n",
    "constraints.append(theta >= theta_lw_b)\n",
    "constraints.append(theta <= theta_up_b)\n",
    "\n",
    "control_bounds_cvx = [(control_bounds[0], control_bounds[1]) for t in range(T)]\n",
    "\n",
    "variables_convex,constraints_convex,times_convex,areas_convex,boxes_convex = DubinsConstraints(T,variables,constraints,control_bounds_cvx,use_convex=False,constants=constants,debug=True)\n",
    "xL,xU = bounds(variables[-1][\"x\"],constraints)\n",
    "yL,yU = bounds(variables[-1][\"y\"],constraints)\n",
    "thetaL,thetaU = bounds(variables[-1][\"theta\"],constraints)\n",
    "fe = lambda init,constants,plot: forwardEulerDC(init,constants,plot,control_bounds=(control_bounds[0],control_bounds[1]))\n",
    "print(verify_valid_boxes(boxes_convex,[x_range,y_range,theta_range],n=10000,forwardEuler=fe,constants=constants,debug=True))\n"
   ]
  },
  {
   "cell_type": "code",
   "execution_count": null,
   "metadata": {},
   "outputs": [],
   "source": []
  }
 ],
 "metadata": {
  "kernelspec": {
   "display_name": "Python 3",
   "language": "python",
   "name": "python3"
  },
  "language_info": {
   "codemirror_mode": {
    "name": "ipython",
    "version": 3
   },
   "file_extension": ".py",
   "mimetype": "text/x-python",
   "name": "python",
   "nbconvert_exporter": "python",
   "pygments_lexer": "ipython3",
   "version": "3.8.5"
  }
 },
 "nbformat": 4,
 "nbformat_minor": 4
}
