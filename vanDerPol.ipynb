{
 "cells": [
  {
   "cell_type": "code",
   "execution_count": 1,
   "metadata": {},
   "outputs": [],
   "source": [
    "import numpy as np\n",
    "import cvxpy\n",
    "import matplotlib.pyplot as plt\n",
    "#from DrawingUtils import plot_extreme_points,graph_plane,PlotPolytope\n",
    "import random as rnd\n",
    "import time\n",
    "from IPython.display import clear_output\n",
    "\n",
    "%matplotlib notebook\n",
    "%matplotlib inline\n",
    "%config InlineBackend.close_figures=False"
   ]
  },
  {
   "cell_type": "markdown",
   "metadata": {},
   "source": [
    "Note: Implementation by Vicenc"
   ]
  },
  {
   "cell_type": "markdown",
   "metadata": {},
   "source": [
    "# Core functions"
   ]
  },
  {
   "cell_type": "markdown",
   "metadata": {},
   "source": [
    "## Constructing linear constraints using McCormick envelopes"
   ]
  },
  {
   "cell_type": "code",
   "execution_count": 2,
   "metadata": {},
   "outputs": [],
   "source": [
    "def McCormick(w,x,y,x_bounds,y_bounds):\n",
    "    xL,xU = x_bounds\n",
    "    yL,yU = y_bounds\n",
    "\n",
    "    c = []\n",
    "    c.append(w >= xL*y + x*yL - xL*yL)\n",
    "    c.append(w >= xU*y + x*yU - xU*yU)\n",
    "    c.append(w <= xU*y + x*yL - xU*yL)\n",
    "    c.append(w <= x*yU + xL*y - xL*yU)\n",
    "    return c"
   ]
  },
  {
   "cell_type": "markdown",
   "metadata": {},
   "source": [
    "## Solving linear program"
   ]
  },
  {
   "cell_type": "code",
   "execution_count": 3,
   "metadata": {},
   "outputs": [],
   "source": [
    "def bounds(x,constraints,Npast=0):\n",
    "\n",
    "    objective_max = cvxpy.Maximize(x)\n",
    "    problem_maximum = cvxpy.Problem(objective_max,constraints[-Npast:])\n",
    "    value_max = problem_maximum.solve(solver=cvxpy.GUROBI)\n",
    "\n",
    "    objective_min = cvxpy.Minimize(x)\n",
    "    problem_minimum = cvxpy.Problem(objective_min,constraints[-Npast:])\n",
    "    value_min = problem_minimum.solve(solver=cvxpy.GUROBI)\n",
    "\n",
    "    return (value_min,value_max)"
   ]
  },
  {
   "cell_type": "markdown",
   "metadata": {},
   "source": [
    "# Van der Pol Oscillator\n",
    "(by Vicenc)\n",
    "\n",
    "Van Der Pol Oscillator (discretized) dynamics:\n",
    "\n",
    "$x_{t+1} = -y_t \\Delta_t + x_t  $         \n",
    "$y_{t+1} = -(u_t(1-x_t^2)y_t - x_t) \\Delta_t + y_t$"
   ]
  },
  {
   "cell_type": "code",
   "execution_count": 4,
   "metadata": {},
   "outputs": [],
   "source": [
    "def VanDerPolConstraints(T=1,variables=[],constraints=[],control_bounds=[],Npast=0):\n",
    "    times = []\n",
    "    for t in range(T):\n",
    "        tt = time.time()\n",
    "        \n",
    "        x = variables[t][\"x\"]\n",
    "        x_bounds = bounds(x,constraints,Npast=Npast)\n",
    "        y = variables[t][\"y\"]\n",
    "        y_bounds = bounds(y,constraints,Npast=Npast)\n",
    "\n",
    "        ######### lil plot\n",
    "        xL,xU = x_bounds\n",
    "        yL,yU = y_bounds\n",
    "#         clear_output(wait=True)\n",
    "        fig = plt.figure(1)\n",
    "        if t>0: \n",
    "            #plt.clf()\n",
    "            plt.plot([x_lw_b,x_lw_b,x_up_b,x_up_b,x_lw_b],[y_lw_b,y_up_b,y_up_b,y_lw_b,y_lw_b],'b')\n",
    "            plt.plot([xL,xL,xU,xU,xL],[yL,yU,yU,yL,yL],'k')\n",
    "            # print(\"x_b: \",x_bounds)\n",
    "            # print(\"y_b: \",y_bounds)\n",
    "        fig.canvas.draw()   # draw\n",
    "        plt.pause(1.01)\n",
    "        ########\n",
    "\n",
    "        u = variables[t][\"u\"]\n",
    "        u_bounds = control_bounds[t]\n",
    "        constraints.append(u <= u_bounds[1])\n",
    "        constraints.append(u >= u_bounds[0])\n",
    "\n",
    "        n = variables[t][\"n\"]\n",
    "        constraints.extend(McCormick(n,x,x,x_bounds,x_bounds))\n",
    "\n",
    "        v = variables[t][\"v\"]\n",
    "        constraints.append(v == 1 - n)\n",
    "        v_bounds = bounds(v,constraints,Npast=Npast)\n",
    "\n",
    "        w = variables[t][\"w\"]\n",
    "        constraints.extend(McCormick(w,y,v,y_bounds,v_bounds))\n",
    "        w_bounds = bounds(w,constraints,Npast=Npast)        \n",
    "\n",
    "        z = variables[t][\"z\"]\n",
    "        constraints.extend(McCormick(z,u,w,u_bounds,w_bounds)) \n",
    "\n",
    "        y_new = variables[t+1][\"y\"]\n",
    "        constraints.append(y_new == z*del_t - x*del_t + y)\n",
    "\n",
    "        x_new = variables[t+1][\"x\"]\n",
    "        constraints.append(x_new == y*del_t + x)\n",
    "\n",
    "        tt = time.time() - tt\n",
    "        times.append(tt)\n",
    "        print(\"Time for \",t,\"-th loop: \",tt)\n",
    "\n",
    "    # plt.figure(2)\n",
    "    # plt.plot(times,'r*')\n",
    "    \n",
    "    xs,ys = forwardEulerVP(1,0,{\"T\":5},plot=False)\n",
    "    plt.plot(xs, ys, '*')\n",
    "    plt.show()\n",
    "    \n",
    "    return variables,constraints"
   ]
  },
  {
   "cell_type": "markdown",
   "metadata": {},
   "source": [
    "## Initial Setup"
   ]
  },
  {
   "cell_type": "code",
   "execution_count": 5,
   "metadata": {},
   "outputs": [],
   "source": [
    "# horizon and forward Euler time step\n",
    "T = 5\n",
    "del_t = -0.1\n",
    "\n",
    "# control bounds\n",
    "u_min = -1.0\n",
    "u_max = 1.0\n",
    "\n",
    "# box constraints for initial state\n",
    "x_up_b = 0.01 + 1\n",
    "x_lw_b = -0.01 + 1\n",
    "y_up_b = 0.01\n",
    "y_lw_b = -0.01"
   ]
  },
  {
   "cell_type": "markdown",
   "metadata": {},
   "source": [
    "$y_{t+1} = -(u_t(1-x_t^2)y_t - x_t) \\Delta_t + y_t$"
   ]
  },
  {
   "cell_type": "code",
   "execution_count": 6,
   "metadata": {},
   "outputs": [],
   "source": [
    "def forwardEulerVP(x0,y0,constants,plot=True):\n",
    "    \n",
    "    T = 5\n",
    "    del_t = -0.1\n",
    "    \n",
    "    xs, ys = [x0], [y0]\n",
    "    x,y = x0, y0\n",
    "    for t in range(T):\n",
    "        u = 0.8\n",
    "        x, y = x-y*del_t, y - (u*(1-x**2)*y - x)*del_t\n",
    "        xs.append(x)\n",
    "        ys.append(y)\n",
    "        \n",
    "    if plot:\n",
    "        plt.figure()\n",
    "        plt.plot(xs, ys, '*')\n",
    "    return xs, ys"
   ]
  },
  {
   "cell_type": "markdown",
   "metadata": {},
   "source": [
    "## Generate plots"
   ]
  },
  {
   "cell_type": "code",
   "execution_count": 7,
   "metadata": {},
   "outputs": [
    {
     "name": "stdout",
     "output_type": "stream",
     "text": [
      "Academic license - for non-commercial use only\n"
     ]
    },
    {
     "data": {
      "image/png": "[encoded data removed]",
      "text/plain": [
       "<Figure size 432x288 with 1 Axes>"
      ]
     },
     "metadata": {
      "needs_background": "light"
     },
     "output_type": "display_data"
    },
    {
     "name": "stdout",
     "output_type": "stream",
     "text": [
      "Time for  0 -th loop:  1.387247085571289\n"
     ]
    },
    {
     "data": {
      "image/png": "[encoded data removed]",
      "text/plain": [
       "<Figure size 432x288 with 1 Axes>"
      ]
     },
     "metadata": {
      "needs_background": "light"
     },
     "output_type": "display_data"
    },
    {
     "name": "stdout",
     "output_type": "stream",
     "text": [
      "Time for  1 -th loop:  1.524550199508667\n"
     ]
    },
    {
     "data": {
      "image/png": "[encoded data removed]",
      "text/plain": [
       "<Figure size 432x288 with 1 Axes>"
      ]
     },
     "metadata": {
      "needs_background": "light"
     },
     "output_type": "display_data"
    },
    {
     "name": "stdout",
     "output_type": "stream",
     "text": [
      "Time for  2 -th loop:  1.6604931354522705\n"
     ]
    },
    {
     "data": {
      "image/png": "[encoded data removed]",
      "text/plain": [
       "<Figure size 432x288 with 1 Axes>"
      ]
     },
     "metadata": {
      "needs_background": "light"
     },
     "output_type": "display_data"
    },
    {
     "name": "stdout",
     "output_type": "stream",
     "text": [
      "Time for  3 -th loop:  1.736656904220581\n"
     ]
    },
    {
     "data": {
      "image/png": "[encoded data removed]",
      "text/plain": [
       "<Figure size 432x288 with 1 Axes>"
      ]
     },
     "metadata": {
      "needs_background": "light"
     },
     "output_type": "display_data"
    },
    {
     "name": "stdout",
     "output_type": "stream",
     "text": [
      "Time for  4 -th loop:  1.9327199459075928\n"
     ]
    },
    {
     "data": {
      "image/png": "[encoded data removed]",
      "text/plain": [
       "<Figure size 432x288 with 1 Axes>"
      ]
     },
     "metadata": {
      "needs_background": "light"
     },
     "output_type": "display_data"
    },
    {
     "data": {
      "image/png": "[encoded data removed]",
      "text/plain": [
       "<Figure size 432x288 with 1 Axes>"
      ]
     },
     "metadata": {
      "needs_background": "light"
     },
     "output_type": "display_data"
    }
   ],
   "source": [
    "variables = [{\"u\":cvxpy.Variable(),\"x\":cvxpy.Variable(),\"y\":cvxpy.Variable(),\"z\":cvxpy.Variable(),\"w\":cvxpy.Variable(),\"v\":cvxpy.Variable(),\"n\":cvxpy.Variable()} for t in range(T+1)]\n",
    "\n",
    "plt.figure(1)\n",
    "plt.plot([x_lw_b,x_lw_b,x_up_b,x_up_b,x_lw_b],[y_lw_b,y_up_b,y_up_b,y_lw_b,y_lw_b],'b')\n",
    "\n",
    "x = variables[0][\"x\"]\n",
    "y = variables[0][\"y\"]\n",
    "\n",
    "constraints = []\n",
    "constraints.append(x >= x_lw_b)\n",
    "constraints.append(x <= x_up_b)\n",
    "constraints.append(y >= y_lw_b)\n",
    "constraints.append(y <= y_up_b)\n",
    "\n",
    "control_bounds = [(0.2,1.0) for t in range(T)]\n",
    "#control_bounds = [(2.0,2.5),(2.0,2.5),(2.0,2.5),(2.0,2.5)]\n",
    "\n",
    "variables,constraints = VanDerPolConstraints(T,variables,constraints,control_bounds)\n",
    "xL,xU = bounds(variables[-1][\"x\"],constraints)\n",
    "yL,yU = bounds(variables[-1][\"y\"],constraints)\n",
    "\n",
    "plt.plot([xL,xL,xU,xU,xL],[yL,yU,yU,yL,yL],'r')\n",
    "plt.pause(1000.0)"
   ]
  },
  {
   "cell_type": "code",
   "execution_count": null,
   "metadata": {},
   "outputs": [],
   "source": []
  },
  {
   "cell_type": "code",
   "execution_count": null,
   "metadata": {},
   "outputs": [],
   "source": []
  }
 ],
 "metadata": {
  "kernelspec": {
   "display_name": "Python 3",
   "language": "python",
   "name": "python3"
  },
  "language_info": {
   "codemirror_mode": {
    "name": "ipython",
    "version": 3
   },
   "file_extension": ".py",
   "mimetype": "text/x-python",
   "name": "python",
   "nbconvert_exporter": "python",
   "pygments_lexer": "ipython3",
   "version": "3.7.4"
  }
 },
 "nbformat": 4,
 "nbformat_minor": 4
}
