{
 "cells": [
  {
   "cell_type": "code",
   "execution_count": 1,
   "metadata": {},
   "outputs": [],
   "source": [
    "import numpy as np\n",
    "import cvxpy\n",
    "import matplotlib.pyplot as plt\n",
    "#from DrawingUtils import plot_extreme_points,graph_plane,PlotPolytope\n",
    "import random as rnd\n",
    "import time\n",
    "from IPython.display import clear_output\n",
    "\n",
    "%matplotlib notebook\n",
    "%matplotlib inline\n",
    "%config InlineBackend.close_figures=False"
   ]
  },
  {
   "cell_type": "markdown",
   "metadata": {},
   "source": [
    "# Core functions"
   ]
  },
  {
   "cell_type": "markdown",
   "metadata": {},
   "source": [
    "## Constructing linear constraints using McCormick envelopes"
   ]
  },
  {
   "cell_type": "code",
   "execution_count": 2,
   "metadata": {},
   "outputs": [],
   "source": [
    "def McCormick(w,x,y,x_bounds,y_bounds):\n",
    "    xL,xU = x_bounds\n",
    "    yL,yU = y_bounds\n",
    "\n",
    "    c = []\n",
    "#     c.append(w >= xL*y + x*yL - xL*yL)\n",
    "    c.append(w >= xU*y + x*yU - xU*yU)\n",
    "    c.append(w <= xU*y + x*yL - xU*yL)\n",
    "#     c.append(w <= x*yU + xL*y - xL*yU)\n",
    "    return c"
   ]
  },
  {
   "cell_type": "markdown",
   "metadata": {},
   "source": [
    "## Solving linear program"
   ]
  },
  {
   "cell_type": "code",
   "execution_count": 3,
   "metadata": {},
   "outputs": [],
   "source": [
    "def bounds(x,constraints,Npast=0):\n",
    "\n",
    "    objective_max = cvxpy.Maximize(x)\n",
    "    problem_maximum = cvxpy.Problem(objective_max,constraints[-Npast:])\n",
    "    value_max = problem_maximum.solve(solver=cvxpy.GUROBI)\n",
    "\n",
    "    objective_min = cvxpy.Minimize(x)\n",
    "    problem_minimum = cvxpy.Problem(objective_min,constraints[-Npast:])\n",
    "    value_min = problem_minimum.solve(solver=cvxpy.GUROBI)\n",
    "\n",
    "    return (value_min,value_max)"
   ]
  },
  {
   "cell_type": "markdown",
   "metadata": {},
   "source": [
    "# Lotka Volterra\n",
    "(Implementation by Anand, based of \"Van Der Pol\" implementation by Vicenc)\n",
    "\n",
    "Lotka Volterra (discretized) dynamics:\n",
    "\n",
    "$x_{t+1} = (a - by_t - \\lambda x_t)x_t \\Delta_t + x_t $         \n",
    "$y_{t+1} = (cx_t - d - \\mu y_t)y_t \\Delta_t + y_t $\n",
    "\n",
    "$a,b,c,d,\\lambda,\\mu > 0 $"
   ]
  },
  {
   "cell_type": "code",
   "execution_count": 4,
   "metadata": {},
   "outputs": [],
   "source": [
    "def forwardEulerLV(x0,y0,constants,plot=True):\n",
    "    \n",
    "    T = constants[\"T\"]\n",
    "    a, b, lamb, c, d, mu, del_t = constants[\"a\"], constants[\"b\"], constants[\"lambda\"], constants[\"c\"], constants[\"d\"], constants[\"mu\"], constants[\"del_t\"]\n",
    "    \n",
    "    xs, ys = [x0], [y0]\n",
    "    x,y = x0, y0\n",
    "    for t in range(T):\n",
    "        x, y = (a-b*y-lamb*x)*x*del_t + x, (c*x-d-mu*y)*y*del_t + y\n",
    "        xs.append(x)\n",
    "        ys.append(y)\n",
    "        \n",
    "    if plot:\n",
    "        plt.figure()\n",
    "        plt.plot(xs, ys, '*')\n",
    "    return xs, ys"
   ]
  },
  {
   "cell_type": "code",
   "execution_count": 5,
   "metadata": {},
   "outputs": [],
   "source": [
    "def lotkaVolterraConstraints(T=1,variables=[],constants={},constraints=[],control_bounds=[],Npast=0):\n",
    "    times = []\n",
    "    T = constants[\"T\"]\n",
    "    for t in range(T):\n",
    "        tt = time.time()\n",
    "        \n",
    "        x = variables[t][\"x\"]\n",
    "        x_bounds = bounds(x,constraints,Npast=Npast)\n",
    "        y = variables[t][\"y\"]\n",
    "        y_bounds = bounds(y,constraints,Npast=Npast)\n",
    "\n",
    "        ######### lil plot\n",
    "        xL,xU = x_bounds\n",
    "        yL,yU = y_bounds\n",
    "        print([(xL,xU),(yL,yU)])\n",
    "#         clear_output(wait=True)\n",
    "        fig = plt.figure(1)\n",
    "        if t>0: \n",
    "            #plt.clf()\n",
    "            plt.plot([x_lw_b,x_lw_b,x_up_b,x_up_b,x_lw_b],[y_lw_b,y_up_b,y_up_b,y_lw_b,y_lw_b],'b')\n",
    "            plt.plot([xL,xL,xU,xU,xL],[yL,yU,yU,yL,yL],'k')\n",
    "            # print(\"x_b: \",x_bounds)\n",
    "            # print(\"y_b: \",y_bounds)\n",
    "        fig.canvas.draw()   # draw\n",
    "        plt.pause(1.01)\n",
    "        ########\n",
    "        \n",
    "        a, b, lamb, c, d, mu, del_t = constants[\"a\"], constants[\"b\"], constants[\"lambda\"], constants[\"c\"], constants[\"d\"], constants[\"mu\"], constants[\"del_t\"]\n",
    "        \n",
    "        k_1 = variables[t][\"k_1\"]\n",
    "        constraints.append(k_1 == (a - b*y - lamb*x)*del_t)\n",
    "        k_1_bounds = bounds(k_1,constraints,Npast=Npast)\n",
    "        \n",
    "        l_1 = variables[t][\"l_1\"]\n",
    "        constraints.extend(McCormick(l_1,k_1,x,k_1_bounds,x_bounds))\n",
    "        \n",
    "        k_2 = variables[t][\"k_2\"]\n",
    "        constraints.append(k_2 == (c*x - d - mu*y)*del_t)\n",
    "        k_2_bounds = bounds(k_2,constraints,Npast=Npast)\n",
    "        \n",
    "        l_2 = variables[t][\"l_2\"]\n",
    "        constraints.extend(McCormick(l_2,k_2,y,k_2_bounds,y_bounds))\n",
    "        \n",
    "        x_new = variables[t+1][\"x\"]\n",
    "        constraints.append(x_new == l_1 + x)\n",
    "        \n",
    "        y_new = variables[t+1][\"y\"]\n",
    "        constraints.append(y_new == l_2 + y)\n",
    "\n",
    "        tt = time.time() - tt\n",
    "        times.append(tt)\n",
    "        print(\"Time for \",t,\"-th loop: \",tt)\n",
    "\n",
    "    # plt.figure(2)\n",
    "    # plt.plot(times,'r*')\n",
    "    \n",
    "    xs,ys = forwardEulerLV(constants[\"x0\"],constants[\"y0\"],constants,plot=False)\n",
    "    for i in range(len(xs)):\n",
    "        print(xs[i],ys[i])\n",
    "    plt.plot(xs, ys, '*')\n",
    "    plt.show()\n",
    "    \n",
    "    return variables,constraints"
   ]
  },
  {
   "cell_type": "markdown",
   "metadata": {},
   "source": [
    "## Initial Setup"
   ]
  },
  {
   "cell_type": "code",
   "execution_count": 8,
   "metadata": {},
   "outputs": [],
   "source": [
    "# horizon and forward Euler time step\n",
    "T = 3\n",
    "del_t = -0.1\n",
    "\n",
    "# box constraints for initial state\n",
    "x0 = 1\n",
    "y0 = 1\n",
    "x_dev = 0.01\n",
    "y_dev = 0.01\n",
    "\n",
    "x_up_b = x_dev + x0\n",
    "x_lw_b = -1*x_dev + x0\n",
    "y_up_b = y_dev + y0\n",
    "y_lw_b = -1*y_dev + y0\n",
    "\n",
    "# constants for dynamics\n",
    "constants = {\"a\":1, \"b\":1, \"lambda\":1, \n",
    "             \"c\":1, \"d\":1, \"mu\":1, \n",
    "             \"T\":T, \"del_t\":del_t,\n",
    "             \"x0\":x0, \"y0\":y0}"
   ]
  },
  {
   "cell_type": "markdown",
   "metadata": {},
   "source": [
    "## Generate plots"
   ]
  },
  {
   "cell_type": "code",
   "execution_count": 9,
   "metadata": {},
   "outputs": [
    {
     "name": "stdout",
     "output_type": "stream",
     "text": [
      "[(0.99, 1.01), (0.99, 1.01)]\n"
     ]
    },
    {
     "data": {
      "image/png": "[encoded data removed]",
      "text/plain": [
       "<Figure size 432x288 with 1 Axes>"
      ]
     },
     "metadata": {
      "needs_background": "light"
     },
     "output_type": "display_data"
    },
    {
     "data": {
      "image/png": "[encoded data removed]",
      "text/plain": [
       "<Figure size 432x288 with 1 Axes>"
      ]
     },
     "metadata": {
      "needs_background": "light"
     },
     "output_type": "display_data"
    },
    {
     "name": "stdout",
     "output_type": "stream",
     "text": [
      "Time for  0 -th loop:  1.5295491218566895\n",
      "[(1.08694, 1.1130200000000001), (1.08694, 1.1130200000000001)]\n"
     ]
    },
    {
     "data": {
      "image/png": "[encoded data removed]",
      "text/plain": [
       "<Figure size 432x288 with 1 Axes>"
      ]
     },
     "metadata": {
      "needs_background": "light"
     },
     "output_type": "display_data"
    },
    {
     "data": {
      "image/png": "[encoded data removed]",
      "text/plain": [
       "<Figure size 432x288 with 1 Axes>"
      ]
     },
     "metadata": {
      "needs_background": "light"
     },
     "output_type": "display_data"
    },
    {
     "name": "stdout",
     "output_type": "stream",
     "text": [
      "Time for  1 -th loop:  1.6580638885498047\n",
      "[(1.21462767332, 1.2492603261200002), (1.19288887332, 1.2269999261200002)]\n"
     ]
    },
    {
     "data": {
      "image/png": "[encoded data removed]",
      "text/plain": [
       "<Figure size 432x288 with 1 Axes>"
      ]
     },
     "metadata": {
      "needs_background": "light"
     },
     "output_type": "display_data"
    },
    {
     "data": {
      "image/png": "[encoded data removed]",
      "text/plain": [
       "<Figure size 432x288 with 1 Axes>"
      ]
     },
     "metadata": {
      "needs_background": "light"
     },
     "output_type": "display_data"
    },
    {
     "name": "stdout",
     "output_type": "stream",
     "text": [
      "Time for  2 -th loop:  1.6010432243347168\n",
      "1 1\n",
      "1.1 1.1\n",
      "1.2320000000000002 1.2100000000000002\n",
      "1.4096544000000004 1.3283380000000002\n"
     ]
    },
    {
     "data": {
      "image/png": "[encoded data removed]",
      "text/plain": [
       "<Figure size 432x288 with 1 Axes>"
      ]
     },
     "metadata": {
      "needs_background": "light"
     },
     "output_type": "display_data"
    },
    {
     "data": {
      "image/png": "[encoded data removed]",
      "text/plain": [
       "<Figure size 432x288 with 1 Axes>"
      ]
     },
     "metadata": {
      "needs_background": "light"
     },
     "output_type": "display_data"
    },
    {
     "data": {
      "text/plain": [
       "[<matplotlib.lines.Line2D at 0x121fb0d50>]"
      ]
     },
     "execution_count": 9,
     "metadata": {},
     "output_type": "execute_result"
    }
   ],
   "source": [
    "variables = [{\"x\":cvxpy.Variable(),\"y\":cvxpy.Variable(),\"k_1\":cvxpy.Variable(),\"k_2\":cvxpy.Variable(),\"l_1\":cvxpy.Variable(),\"l_2\":cvxpy.Variable()} for t in range(T+1)]\n",
    "\n",
    "plt.figure()\n",
    "plt.plot([x_lw_b,x_lw_b,x_up_b,x_up_b,x_lw_b],[y_lw_b,y_up_b,y_up_b,y_lw_b,y_lw_b],'b')\n",
    "\n",
    "x = variables[0][\"x\"]\n",
    "y = variables[0][\"y\"]\n",
    "\n",
    "constraints = []\n",
    "constraints.append(x >= x_lw_b)\n",
    "constraints.append(x <= x_up_b)\n",
    "constraints.append(y >= y_lw_b)\n",
    "constraints.append(y <= y_up_b)\n",
    "\n",
    "control_bounds = [(0.2,1.0) for t in range(T)]\n",
    "#control_bounds = [(2.0,2.5),(2.0,2.5),(2.0,2.5),(2.0,2.5)]\n",
    "\n",
    "variables,constraints = lotkaVolterraConstraints(T,variables,constants,constraints,control_bounds)\n",
    "xL,xU = bounds(variables[-1][\"x\"],constraints)\n",
    "yL,yU = bounds(variables[-1][\"y\"],constraints)\n",
    "\n",
    "plt.plot([xL,xL,xU,xU,xL],[yL,yU,yU,yL,yL],'r')\n",
    "# plt.pause(1000)"
   ]
  },
  {
   "cell_type": "code",
   "execution_count": null,
   "metadata": {},
   "outputs": [],
   "source": []
  },
  {
   "cell_type": "code",
   "execution_count": null,
   "metadata": {},
   "outputs": [],
   "source": []
  }
 ],
 "metadata": {
  "kernelspec": {
   "display_name": "Python 3",
   "language": "python",
   "name": "python3"
  },
  "language_info": {
   "codemirror_mode": {
    "name": "ipython",
    "version": 3
   },
   "file_extension": ".py",
   "mimetype": "text/x-python",
   "name": "python",
   "nbconvert_exporter": "python",
   "pygments_lexer": "ipython3",
   "version": "3.7.4"
  }
 },
 "nbformat": 4,
 "nbformat_minor": 4
}
