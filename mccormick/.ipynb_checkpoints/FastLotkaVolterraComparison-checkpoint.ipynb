{
 "cells": [
  {
   "cell_type": "code",
   "execution_count": 1,
   "metadata": {},
   "outputs": [],
   "source": [
    "import numpy as np\n",
    "import cvxpy\n",
    "import matplotlib.pyplot as plt\n",
    "#from DrawingUtils import plot_extreme_points,graph_plane,PlotPolytope\n",
    "import random as rnd\n",
    "import time\n",
    "from IPython.display import clear_output\n",
    "\n",
    "%matplotlib notebook\n",
    "%matplotlib inline\n",
    "%config InlineBackend.close_figures=False"
   ]
  },
  {
   "cell_type": "markdown",
   "metadata": {},
   "source": [
    "# Core functions"
   ]
  },
  {
   "cell_type": "markdown",
   "metadata": {},
   "source": [
    "## Constructing linear constraints using McCormick envelopes"
   ]
  },
  {
   "cell_type": "code",
   "execution_count": 2,
   "metadata": {},
   "outputs": [],
   "source": [
    "def McCormick(w,x,y,x_bounds,y_bounds):\n",
    "    xL,xU = x_bounds\n",
    "    yL,yU = y_bounds\n",
    "\n",
    "    c = []\n",
    "#     c.append(w >= xL*y + x*yL - xL*yL)\n",
    "    c.append(w >= xU*y + x*yU - xU*yU)\n",
    "    c.append(w <= xU*y + x*yL - xU*yL)\n",
    "#     c.append(w <= x*yU + xL*y - xL*yU)\n",
    "    return c"
   ]
  },
  {
   "cell_type": "markdown",
   "metadata": {},
   "source": [
    "## Solving linear program"
   ]
  },
  {
   "cell_type": "code",
   "execution_count": 3,
   "metadata": {},
   "outputs": [],
   "source": [
    "def bounds(x,constraints,Npast=0):\n",
    "\n",
    "    objective_max = cvxpy.Maximize(x)\n",
    "    problem_maximum = cvxpy.Problem(objective_max,constraints[-Npast:])\n",
    "    value_max = problem_maximum.solve(solver=cvxpy.GUROBI)\n",
    "\n",
    "    objective_min = cvxpy.Minimize(x)\n",
    "    problem_minimum = cvxpy.Problem(objective_min,constraints[-Npast:])\n",
    "    value_min = problem_minimum.solve(solver=cvxpy.GUROBI)\n",
    "\n",
    "    return (value_min,value_max)"
   ]
  },
  {
   "cell_type": "markdown",
   "metadata": {},
   "source": [
    "# Lotka Volterra\n",
    "(Implementation by Anand, based of \"Van Der Pol\" implementation by Vicenc)\n",
    "\n",
    "Lotka Volterra (discretized) dynamics:\n",
    "\n",
    "$x_{t+1} = (a - by_t - \\lambda x_t)x_t \\Delta_t + x_t $         \n",
    "$y_{t+1} = (cx_t - d - \\mu y_t)y_t \\Delta_t + y_t $\n",
    "\n",
    "$a,b,c,d,\\lambda,\\mu > 0 $"
   ]
  },
  {
   "cell_type": "code",
   "execution_count": 4,
   "metadata": {},
   "outputs": [],
   "source": [
    "def forwardEulerLV(x0,y0,constants,plot=True):\n",
    "    \n",
    "    T = constants[\"T\"]\n",
    "    a, b, lamb, c, d, mu, del_t = constants[\"a\"], constants[\"b\"], constants[\"lambda\"], constants[\"c\"], constants[\"d\"], constants[\"mu\"], constants[\"del_t\"]\n",
    "    \n",
    "    xs, ys = [x0], [y0]\n",
    "    x,y = x0, y0\n",
    "    for t in range(T):\n",
    "        x, y = (a-b*y-lamb*x)*x*del_t + x, (c*x-d-mu*y)*y*del_t + y\n",
    "        xs.append(x)\n",
    "        ys.append(y)\n",
    "        \n",
    "    if plot:\n",
    "        plt.figure()\n",
    "        plt.plot(xs, ys, '*')\n",
    "    return xs, ys"
   ]
  },
  {
   "cell_type": "code",
   "execution_count": 5,
   "metadata": {},
   "outputs": [],
   "source": [
    "def lotkaVolterraConstraints(T=1,variables=[],constants={},constraints=[],control_bounds=[],Npast=0,plot=False):\n",
    "    times = []\n",
    "    T = constants[\"T\"]\n",
    "    areas = []\n",
    "    for t in range(T):\n",
    "        tt = time.time()\n",
    "        \n",
    "        x = variables[t][\"x\"]\n",
    "        x_bounds = bounds(x,constraints,Npast=Npast)\n",
    "        y = variables[t][\"y\"]\n",
    "        y_bounds = bounds(y,constraints,Npast=Npast)\n",
    "        xL,xU = x_bounds\n",
    "        yL,yU = y_bounds\n",
    "        \n",
    "        areas.append((xU-xL)*(yU-yL))\n",
    "        ######### lil plot\n",
    "        if plot:\n",
    "    #         clear_output(wait=True)\n",
    "            fig = plt.figure(1)\n",
    "            if t>0: \n",
    "                #plt.clf()\n",
    "                plt.plot([x_lw_b,x_lw_b,x_up_b,x_up_b,x_lw_b],[y_lw_b,y_up_b,y_up_b,y_lw_b,y_lw_b],'b')\n",
    "                plt.plot([xL,xL,xU,xU,xL],[yL,yU,yU,yL,yL],'k')\n",
    "                # print(\"x_b: \",x_bounds)\n",
    "                # print(\"y_b: \",y_bounds)\n",
    "            fig.canvas.draw()   # draw\n",
    "            plt.pause(1.01)\n",
    "        ########\n",
    "        \n",
    "        a, b, lamb, c, d, mu, del_t = constants[\"a\"], constants[\"b\"], constants[\"lambda\"], constants[\"c\"], constants[\"d\"], constants[\"mu\"], constants[\"del_t\"]\n",
    "        \n",
    "        k_1 = variables[t][\"k_1\"]\n",
    "        constraints.append(k_1 == (y)*del_t)\n",
    "        k_1_bounds = bounds(k_1,constraints,Npast=Npast)\n",
    "        \n",
    "        l_1 = variables[t][\"l_1\"]\n",
    "        constraints.extend(McCormick(l_1,k_1,x,k_1_bounds,x_bounds))\n",
    "        \n",
    "        k_2 = variables[t][\"k_2\"]\n",
    "        constraints.append(k_2 == (x)*del_t)\n",
    "        k_2_bounds = bounds(k_2,constraints,Npast=Npast)\n",
    "        \n",
    "        l_2 = variables[t][\"l_2\"]\n",
    "        constraints.extend(McCormick(l_2,k_2,y,k_2_bounds,y_bounds))\n",
    "        \n",
    "        x_new = variables[t+1][\"x\"]\n",
    "        constraints.append(x_new == l_1 + x)\n",
    "        \n",
    "        y_new = variables[t+1][\"y\"]\n",
    "        constraints.append(y_new == l_2 + y)\n",
    "\n",
    "        tt = time.time() - tt\n",
    "        times.append(tt)\n",
    "#         print(\"Time for \",t,\"-th loop: \",tt)\n",
    "\n",
    "    # plt.figure(2)\n",
    "    # plt.plot(times,'r*')\n",
    "    if plot:\n",
    "        xs,ys = forwardEulerLV(constants[\"x0\"],constants[\"y0\"],constants,plot=False)\n",
    "        plt.plot(xs, ys, '*')\n",
    "        plt.show()\n",
    "    \n",
    "    return variables,constraints,times,areas"
   ]
  },
  {
   "cell_type": "markdown",
   "metadata": {},
   "source": [
    "## Initial Setup"
   ]
  },
  {
   "cell_type": "code",
   "execution_count": 6,
   "metadata": {},
   "outputs": [],
   "source": [
    "# horizon and forward Euler time step\n",
    "T = 10\n",
    "del_t = -0.1\n",
    "\n",
    "# box constraints for initial state\n",
    "x0 = 1\n",
    "y0 = 1\n",
    "x_dev = 0.01\n",
    "y_dev = 0.01\n",
    "\n",
    "x_up_b = x_dev + x0\n",
    "x_lw_b = -1*x_dev + x0\n",
    "y_up_b = y_dev + y0\n",
    "y_lw_b = -1*y_dev + y0\n",
    "\n",
    "# constants for dynamics\n",
    "constants = {\"a\":1, \"b\":1, \"lambda\":1, \n",
    "             \"c\":1, \"d\":1, \"mu\":1, \n",
    "             \"T\":T, \"del_t\":del_t,\n",
    "             \"x0\":x0, \"y0\":y0}"
   ]
  },
  {
   "cell_type": "markdown",
   "metadata": {},
   "source": [
    "## Generate plots"
   ]
  },
  {
   "cell_type": "code",
   "execution_count": 7,
   "metadata": {},
   "outputs": [
    {
     "name": "stdout",
     "output_type": "stream",
     "text": [
      "Academic license - for non-commercial use only\n"
     ]
    }
   ],
   "source": [
    "variables = [{\"x\":cvxpy.Variable(),\"y\":cvxpy.Variable(),\"k_1\":cvxpy.Variable(),\"k_2\":cvxpy.Variable(),\"l_1\":cvxpy.Variable(),\"l_2\":cvxpy.Variable()} for t in range(T+1)]\n",
    "\n",
    "# plt.figure()\n",
    "# plt.plot([x_lw_b,x_lw_b,x_up_b,x_up_b,x_lw_b],[y_lw_b,y_up_b,y_up_b,y_lw_b,y_lw_b],'b')\n",
    "\n",
    "x = variables[0][\"x\"]\n",
    "y = variables[0][\"y\"]\n",
    "\n",
    "constraints = []\n",
    "constraints.append(x >= x_lw_b)\n",
    "constraints.append(x <= x_up_b)\n",
    "constraints.append(y >= y_lw_b)\n",
    "constraints.append(y <= y_up_b)\n",
    "\n",
    "variables,constraints,times,areas = lotkaVolterraConstraints(T,variables,constants,constraints)\n",
    "xL,xU = bounds(variables[-1][\"x\"],constraints)\n",
    "yL,yU = bounds(variables[-1][\"y\"],constraints)\n",
    "\n",
    "# plt.plot([xL,xL,xU,xU,xL],[yL,yU,yU,yL,yL],'r')\n",
    "# plt.pause(1000)"
   ]
  },
  {
   "cell_type": "markdown",
   "metadata": {},
   "source": [
    "## Comparing with Fast implementation"
   ]
  },
  {
   "cell_type": "code",
   "execution_count": 8,
   "metadata": {},
   "outputs": [],
   "source": [
    "class Line2D():\n",
    "    # line = ax + by + c\n",
    "    def __init__(self,a,b,c):\n",
    "        self.a = a\n",
    "        self.b = b\n",
    "        self.c = c\n",
    "    \n",
    "    def mult_const(self,z):\n",
    "        return Line2D(self.a * z,self.b * z,self.c * z)\n",
    "    \n",
    "    def add(self,l):\n",
    "        return Line2D(self.a + l.a,self.b + l.b,self.c + l.c)\n",
    "    \n",
    "    def add_const(self,z):\n",
    "        return Line2D(self.a,self.b,self.c + z)\n",
    "    \n",
    "class LinearConstraints:\n",
    "    def __init__(self, lower, upper, x_bound, y_bound):\n",
    "        self.lower = lower\n",
    "        self.upper = upper\n",
    "        self.x_bound = x_bound\n",
    "        self.y_bound = y_bound\n",
    "        \n",
    "    def eval_box(self):\n",
    "        if self.x_bound == None or self.y_bound == None:\n",
    "            return BoxConstraint(self.lower.c,self.upper.c)\n",
    "        lower_val = self.lower.c + (self.x_bound.upper if self.lower.a < 0 else self.x_bound.lower)*self.lower.a + (self.y_bound.upper if self.lower.b < 0 else self.y_bound.lower)*self.lower.b\n",
    "        upper_val = self.upper.c + (self.x_bound.upper if self.upper.a > 0 else self.x_bound.lower)*self.upper.a + (self.y_bound.upper if self.upper.b > 0 else self.y_bound.lower)*self.upper.b\n",
    "        return BoxConstraints(lower_val,upper_val)\n",
    "    \n",
    "    def eval_constraints(self):\n",
    "        lower_val = self.lower.c + (self.x_bound.upper if self.lower.a < 0 else self.x_bound.lower) + (self.y_bound.upper if self.lower.b < 0 else self.y_bound.lower)\n",
    "        upper_val = self.upper.c + (self.x_bound.upper if self.upper.a > 0 else self.x_bound.lower) + (self.y_bound.upper if self.upper.b > 0 else self.y_bound.lower)\n",
    "        return LinearConstraints(Line2D(0,0,lower_val),Line2D(0,0,upper_val),self.x_bounds,self.y_bounds)\n",
    "    \n",
    "    def add(self,l):\n",
    "        lower_line = self.lower.add(l.lower)\n",
    "        upper_line = self.upper.add(l.upper)\n",
    "        return LinearConstraints(lower_line, upper_line, self.x_bound, self.y_bound)\n",
    "    \n",
    "    def add_const(self,z):\n",
    "        lower_line = self.lower.add(Line2D(0,0,z))\n",
    "        upper_line = self.upper.add(Line2D(0,0,z))\n",
    "        return LinearConstraints(lower_line, upper_line, self.x_bound, self.y_bound)\n",
    "    \n",
    "    def mult_const(self,z):\n",
    "        if z < 0:\n",
    "            upper_line = self.lower.mult_const(z)\n",
    "            lower_line = self.upper.mult_const(z)\n",
    "        else:\n",
    "            lower_line = self.lower.mult_const(z)\n",
    "            upper_line = self.upper.mult_const(z)\n",
    "        return LinearConstraints(lower_line, upper_line, self.x_bound, self.y_bound)\n",
    "    \n",
    "    def mult(self,l2):\n",
    "        l1 = self\n",
    "        l1_box = self.eval_box()\n",
    "        l2_box = l2.eval_box()\n",
    "        \n",
    "#         c.append(w >= xU*y + x*yU - xU*yU)\n",
    "#         c.append(w <= xU*y + x*yL - xU*yL)\n",
    "\n",
    "        lower = (l2.upper.mult_const(l1_box.upper) if l1_box.upper < 0 else l2.lower.mult_const(l1_box.upper))\n",
    "        lower = lower.add((l1.upper.mult_const(l2_box.upper) if l2_box.upper < 0 else l1.lower.mult_const(l2_box.upper)))\n",
    "        lower = lower.add_const(-1*l1_box.upper*l2_box.upper)\n",
    "        \n",
    "        upper = (l2.upper.mult_const(l1_box.upper) if l1_box.upper > 0 else l2.lower.mult_const(l1_box.upper))\n",
    "        upper = upper.add((l1.upper.mult_const(l2_box.lower) if l2_box.lower > 0 else l1.lower.mult_const(l2_box.lower)))\n",
    "        upper = upper.add_const(-1*l1_box.upper*l2_box.lower)\n",
    "        \n",
    "        return LinearConstraints(lower,upper,self.x_bound,self.y_bound)\n",
    "\n",
    "class BoxConstraints():\n",
    "    def __init__(self, lower, upper):\n",
    "        self.lower = lower\n",
    "        self.upper = upper"
   ]
  },
  {
   "cell_type": "code",
   "execution_count": 9,
   "metadata": {},
   "outputs": [],
   "source": [
    "areas_fast = []\n",
    "times_fast = []\n",
    "\n",
    "x0_bounds = BoxConstraints(x_lw_b,x_up_b)\n",
    "y0_bounds = BoxConstraints(y_lw_b,y_up_b)\n",
    "\n",
    "z_init = [1.01,1.01]\n",
    "\n",
    "zs = [z_init]\n",
    "\n",
    "x_0 = LinearConstraints(Line2D(1,0,0),Line2D(1,0,0),x0_bounds,y0_bounds)\n",
    "y_0 = LinearConstraints(Line2D(0,1,0),Line2D(0,1,0),x0_bounds,y0_bounds)\n",
    "\n",
    "k_0 = LinearConstraints(Line2D(-1*constants[\"lambda\"],-1*constants[\"b\"],constants[\"a\"]),Line2D(-1*constants[\"lambda\"],-1*constants[\"b\"],constants[\"a\"]),x0_bounds, y0_bounds) # k_0 = a - by_t - \\lambda x_t\n",
    "l_0 = LinearConstraints(Line2D(constants[\"c\"],-1*constants[\"mu\"],-1*constants[\"d\"]),Line2D(constants[\"c\"],-1*constants[\"mu\"],-1*constants[\"d\"]),x0_bounds, y0_bounds)\n",
    "\n",
    "for t in range(constants[\"T\"]):\n",
    "    tt = time.time()\n",
    "    box_x, box_y = x_0.eval_box(), y_0.eval_box()\n",
    "    areas_fast.append((box_x.upper-box_x.lower)*(box_y.upper-box_y.lower))\n",
    "    \n",
    "    if t > 0:\n",
    "        k_0 = x_0.mult_const(-1*constants[\"lambda\"]).add(y_0.mult_const(-1*constants[\"b\"]).add_const(constants[\"a\"]))\n",
    "        l_0 = x_0.mult_const(constants[\"c\"]).add(y_0.mult_const(-1*constants[\"mu\"]).add_const(-1*constants[\"d\"]))\n",
    "\n",
    "    m_0 = k_0.mult(x_0)\n",
    "    m_0 = m_0.mult_const(constants[\"del_t\"]).add(x_0)\n",
    "\n",
    "    n_0 = l_0.mult(y_0)\n",
    "    n_0 = n_0.mult_const(constants[\"del_t\"]).add(y_0)\n",
    "    \n",
    "    x_0, y_0 = m_0, n_0\n",
    "    \n",
    "    z_curr = zs[-1]\n",
    "    z_next = [(constants[\"a\"] - constants[\"b\"]*z_curr[1] - constants[\"lambda\"]*z_curr[0])*z_curr[0]*constants[\"del_t\"] + z_curr[0], (-1*constants[\"d\"] - constants[\"mu\"]*z_curr[1] + constants[\"c\"]*z_curr[0])*z_curr[1]*constants[\"del_t\"] + z_curr[1]]\n",
    "    zs.append(z_next)\n",
    "\n",
    "    tt = time.time() - tt\n",
    "    times_fast.append(tt)"
   ]
  },
  {
   "cell_type": "code",
   "execution_count": 10,
   "metadata": {},
   "outputs": [
    {
     "data": {
      "text/plain": [
       "<matplotlib.legend.Legend at 0x11aafcc90>"
      ]
     },
     "execution_count": 10,
     "metadata": {},
     "output_type": "execute_result"
    },
    {
     "data": {
      "image/png": "[encoded data removed]",
      "text/plain": [
       "<Figure size 432x288 with 1 Axes>"
      ]
     },
     "metadata": {
      "needs_background": "light"
     },
     "output_type": "display_data"
    }
   ],
   "source": [
    "plt.figure()\n",
    "plt.plot(areas,label=\"Normal\")\n",
    "plt.plot(areas_fast,label=\"Fast\")\n",
    "plt.xlabel(\"Iteration\")\n",
    "plt.ylabel(\"Area\")\n",
    "plt.legend()"
   ]
  },
  {
   "cell_type": "code",
   "execution_count": 12,
   "metadata": {},
   "outputs": [
    {
     "data": {
      "text/plain": [
       "<matplotlib.legend.Legend at 0x11ac4ae90>"
      ]
     },
     "execution_count": 12,
     "metadata": {},
     "output_type": "execute_result"
    },
    {
     "data": {
      "image/png": "[encoded data removed]",
      "text/plain": [
       "<Figure size 432x288 with 1 Axes>"
      ]
     },
     "metadata": {
      "needs_background": "light"
     },
     "output_type": "display_data"
    }
   ],
   "source": [
    "plt.figure()\n",
    "plt.plot(times,label=\"Normal\")\n",
    "plt.plot(times_fast,label=\"Fast\")\n",
    "plt.xlabel(\"Iteration\")\n",
    "plt.ylabel(\"Time for iteration\")\n",
    "plt.legend()"
   ]
  },
  {
   "cell_type": "code",
   "execution_count": null,
   "metadata": {},
   "outputs": [],
   "source": []
  }
 ],
 "metadata": {
  "kernelspec": {
   "display_name": "Python 3",
   "language": "python",
   "name": "python3"
  },
  "language_info": {
   "codemirror_mode": {
    "name": "ipython",
    "version": 3
   },
   "file_extension": ".py",
   "mimetype": "text/x-python",
   "name": "python",
   "nbconvert_exporter": "python",
   "pygments_lexer": "ipython3",
   "version": "3.7.4"
  }
 },
 "nbformat": 4,
 "nbformat_minor": 4
}
