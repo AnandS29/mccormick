{
 "cells": [
  {
   "cell_type": "code",
   "execution_count": 1,
   "metadata": {},
   "outputs": [],
   "source": [
    "import numpy as np\n",
    "import matplotlib.pyplot as plt"
   ]
  },
  {
   "cell_type": "markdown",
   "metadata": {},
   "source": [
    "Implementation is assuming 2D and box constraints for initial set.\n",
    "\n",
    "$$\n",
    "    a_L x + b_L y + c_L < w < a_U x + b_U y + c_U\n",
    "$$\n",
    "\n",
    "$$\n",
    "    d_L(x_0,y_0) < x < d_U(x_0,y_0) \\ , \\ e_L(x_0,y_0) < y < e_U(x_0,y_0)\n",
    "$$\n",
    "\n",
    "$$\n",
    "    \\implies a_L f_L + b_L g_L + c_L < w < a_U f_U + b_U g_U + c_U\n",
    "$$, where the variables are determined by the following:\n",
    "\n"
   ]
  },
  {
   "cell_type": "markdown",
   "metadata": {},
   "source": [
    "$$\n",
    "    f_L = \\begin{cases} d_U & \\text{if $a_L < 0$} \\\\ d_L & \\text{otherwise} \\end{cases}\n",
    "$$\n",
    "\n",
    "$$\n",
    "    f_U = \\begin{cases} d_L & \\text{if $a_U < 0$} \\\\ d_U & \\text{otherwise} \\end{cases}\n",
    "$$\n",
    "\n",
    "$$\n",
    "    g_L = \\begin{cases} e_U & \\text{if $b_L < 0$} \\\\ e_L & \\text{otherwise} \\end{cases}\n",
    "$$\n",
    "\n",
    "$$\n",
    "    g_U = \\begin{cases} e_L & \\text{if $b_U < 0$} \\\\ e_U & \\text{otherwise} \\end{cases}\n",
    "$$"
   ]
  },
  {
   "cell_type": "code",
   "execution_count": 2,
   "metadata": {},
   "outputs": [],
   "source": [
    "class Line2D():\n",
    "    # line = ax + by + c\n",
    "    def __init__(self,a,b,c):\n",
    "        self.a = a\n",
    "        self.b = b\n",
    "        self.c = c\n",
    "    \n",
    "    def mult_const(z):\n",
    "        return Line2D(self.a * z,self.b * z,self.c * z)\n",
    "    \n",
    "    def add_line(l):\n",
    "        return Line2D(self.a + l.a,self.b + l.b,self.c + l.c)\n",
    "    \n",
    "    def add_const(z):\n",
    "        return Line2D(self.a,self.b,self.c + z)\n",
    "    \n",
    "class BoxConstraints:\n",
    "    def __init__(self, x_lower, x_upper, y_lower, y_upper):\n",
    "        self.x_lower = x_lower\n",
    "        self.x_upper = x_upper\n",
    "        self.y_lower = y_lower\n",
    "        self.y_upper = y_upper\n",
    "    \n",
    "class LinearConstraints:\n",
    "    def __init__(self, lower, upper):\n",
    "        self.lower = lower\n",
    "        self.upper = upper\n",
    "        \n",
    "    def eval_box(self, box):\n",
    "        return None\n",
    "    \n",
    "def evaluate(x, y, line_lower, line_upper):\n",
    "    # Returns bounds of new variable w\n",
    "    # Don't evaluate constraints, keep them as lines or can I eval into box constraints?\n",
    "    \n",
    "    if x == None:\n",
    "        x = LinearConstraints(Line2D(0,0,0),Line2D(0,0,0))\n",
    "    if y == None:\n",
    "        y = LinearConstraints(Line2D(0,0,0),Line2D(0,0,0))\n",
    "\n",
    "    f_L = (x.upper if line_lower.a < 0 else x.lower)\n",
    "    f_U = (x.lower if line_upper.a < 0 else x.upper)\n",
    "    g_L = (y.upper if line_lower.b < 0 else y.lower)\n",
    "    g_U = (y.lower if line_upper.b < 0 else y.upper)\n",
    "\n",
    "    new_lower = ((f_L.mult_const(line_lower.a)).add_line(g_L.mult_const(line_lower.b))).add_const(line_lower.c)\n",
    "    new_upper = ((f_U.mult_const(line_upper.a)).add_line(g_U.mult_const(line_upper.b))).add_const(line_upper.c)\n",
    "\n",
    "    return LinearConstraints(new_lower, new_upper)"
   ]
  },
  {
   "cell_type": "markdown",
   "metadata": {},
   "source": [
    "Implementation is assuming 2D and box constraints for initial set.\n",
    "\n",
    "$$\n",
    "    a_L x + b_L y + c_L < w < a_U x + b_U y + c_U\n",
    "$$\n",
    "\n",
    "$$\n",
    "    d_L < x < d_U \\ , \\ e_L < y < e_U\n",
    "$$\n",
    "\n",
    "$$\n",
    "    \\implies a_L f_L + b_L g_L + c_L < w < a_U f_U + b_U g_U + c_U\n",
    "$$, where the variables are determined by the following:\n",
    "\n",
    "\n"
   ]
  },
  {
   "cell_type": "markdown",
   "metadata": {},
   "source": [
    "$$\n",
    "    f_L = \\begin{cases} d_U & \\text{if $a_L < 0$} \\\\ d_L & \\text{otherwise} \\end{cases}\n",
    "$$\n",
    "\n",
    "$$\n",
    "    f_U = \\begin{cases} d_L & \\text{if $a_U < 0$} \\\\ d_U & \\text{otherwise} \\end{cases}\n",
    "$$\n",
    "\n",
    "$$\n",
    "    g_L = \\begin{cases} e_U & \\text{if $b_L < 0$} \\\\ e_L & \\text{otherwise} \\end{cases}\n",
    "$$\n",
    "\n",
    "$$\n",
    "    g_U = \\begin{cases} e_L & \\text{if $b_U < 0$} \\\\ e_U & \\text{otherwise} \\end{cases}\n",
    "$$"
   ]
  },
  {
   "cell_type": "code",
   "execution_count": 3,
   "metadata": {},
   "outputs": [],
   "source": [
    "class Line2D():\n",
    "    # line = ax + by + c\n",
    "    def __init__(self,a,b,c):\n",
    "        self.a = a\n",
    "        self.b = b\n",
    "        self.c = c\n",
    "    \n",
    "    def mult_const(self,z):\n",
    "        return Line2D(self.a * z,self.b * z,self.c * z)\n",
    "    \n",
    "    def add(self,l):\n",
    "        return Line2D(self.a + l.a,self.b + l.b,self.c + l.c)\n",
    "    \n",
    "    def add_const(self,z):\n",
    "        return Line2D(self.a,self.b,self.c + z)\n",
    "    \n",
    "class LinearConstraints:\n",
    "    def __init__(self, lower, upper, x_bound, y_bound):\n",
    "        self.lower = lower\n",
    "        self.upper = upper\n",
    "        self.x_bound = x_bound\n",
    "        self.y_bound = y_bound\n",
    "        \n",
    "    def eval_box(self):\n",
    "        if self.x_bound == None or self.y_bound == None:\n",
    "            return BoxConstraint(self.lower.c,self.upper.c)\n",
    "        lower_val = self.lower.c + (self.x_bound.upper if self.lower.a < 0 else self.x_bound.lower)*self.lower.a + (self.y_bound.upper if self.lower.b < 0 else self.y_bound.lower)*self.lower.b\n",
    "        upper_val = self.upper.c + (self.x_bound.upper if self.upper.a > 0 else self.x_bound.lower)*self.upper.a + (self.y_bound.upper if self.upper.b > 0 else self.y_bound.lower)*self.upper.b\n",
    "        return BoxConstraints(lower_val,upper_val)\n",
    "    \n",
    "    def eval_constraints(self):\n",
    "        lower_val = self.lower.c + (self.x_bound.upper if self.lower.a < 0 else self.x_bound.lower) + (self.y_bound.upper if self.lower.b < 0 else self.y_bound.lower)\n",
    "        upper_val = self.upper.c + (self.x_bound.upper if self.upper.a > 0 else self.x_bound.lower) + (self.y_bound.upper if self.upper.b > 0 else self.y_bound.lower)\n",
    "        return LinearConstraints(Line2D(0,0,lower_val),Line2D(0,0,upper_val),self.x_bounds,self.y_bounds)\n",
    "    \n",
    "    def add(self,l):\n",
    "        lower_line = self.lower.add(l.lower)\n",
    "        upper_line = self.upper.add(l.upper)\n",
    "        return LinearConstraints(lower_line, upper_line, self.x_bound, self.y_bound)\n",
    "    \n",
    "    def add_const(self,z):\n",
    "        lower_line = self.lower.add(Line2D(0,0,z))\n",
    "        upper_line = self.upper.add(Line2D(0,0,z))\n",
    "        return LinearConstraints(lower_line, upper_line, self.x_bound, self.y_bound)\n",
    "    \n",
    "    def mult_const(self,z):\n",
    "        if z < 0:\n",
    "            upper_line = self.lower.mult_const(z)\n",
    "            lower_line = self.upper.mult_const(z)\n",
    "        else:\n",
    "            lower_line = self.lower.mult_const(z)\n",
    "            upper_line = self.upper.mult_const(z)\n",
    "        return LinearConstraints(lower_line, upper_line, self.x_bound, self.y_bound)\n",
    "    \n",
    "    def mult(self,l2):\n",
    "        l1 = self\n",
    "        l1_box = self.eval_box()\n",
    "        l2_box = l2.eval_box()\n",
    "        \n",
    "#         c.append(w >= xU*y + x*yU - xU*yU)\n",
    "#         c.append(w <= xU*y + x*yL - xU*yL)\n",
    "\n",
    "        lower = (l2.upper.mult_const(l1_box.upper) if l1_box.upper < 0 else l2.lower.mult_const(l1_box.upper))\n",
    "        lower = lower.add((l1.upper.mult_const(l2_box.upper) if l2_box.upper < 0 else l1.lower.mult_const(l2_box.upper)))\n",
    "        lower = lower.add_const(-1*l1_box.upper*l2_box.upper)\n",
    "        \n",
    "        upper = (l2.upper.mult_const(l1_box.upper) if l1_box.upper > 0 else l2.lower.mult_const(l1_box.upper))\n",
    "        upper = upper.add((l1.upper.mult_const(l2_box.lower) if l2_box.lower > 0 else l1.lower.mult_const(l2_box.lower)))\n",
    "        upper = upper.add_const(-1*l1_box.upper*l2_box.lower)\n",
    "        \n",
    "        return LinearConstraints(lower,upper,self.x_bound,self.y_bound)\n",
    "\n",
    "class BoxConstraints():\n",
    "    def __init__(self, lower, upper):\n",
    "        self.lower = lower\n",
    "        self.upper = upper\n"
   ]
  },
  {
   "cell_type": "markdown",
   "metadata": {},
   "source": [
    "## Experiment with Lotka-Volterra Model\n",
    "\n",
    "Lotka Volterra (discretized) dynamics:\n",
    "\n",
    "$x_{t+1} = (a - by_t - \\lambda x_t)x_t \\Delta_t + x_t $         \n",
    "$y_{t+1} = (cx_t - d - \\mu y_t)y_t \\Delta_t + y_t $\n",
    "\n",
    "$a,b,c,d,\\lambda,\\mu > 0 $"
   ]
  },
  {
   "cell_type": "code",
   "execution_count": 36,
   "metadata": {},
   "outputs": [],
   "source": [
    "# horizon and forward Euler time step\n",
    "T = 3\n",
    "del_t = 0.1\n",
    "\n",
    "# box constraints for initial state\n",
    "x0 = 1\n",
    "y0 = 1\n",
    "x_dev = 0.01\n",
    "y_dev = 0.01\n",
    "\n",
    "x_up_b = x_dev + x0\n",
    "x_lw_b = -1*x_dev + x0\n",
    "y_up_b = y_dev + y0\n",
    "y_lw_b = -1*y_dev + y0\n",
    "\n",
    "# constants for dynamics\n",
    "constants = {\"a\":1, \"b\":1, \"lambda\":1, \n",
    "             \"c\":1, \"d\":1, \"mu\":1, \n",
    "             \"T\":T, \"del_t\":del_t,\n",
    "             \"x0\":x0, \"y0\":y0}"
   ]
  },
  {
   "cell_type": "code",
   "execution_count": 37,
   "metadata": {},
   "outputs": [],
   "source": [
    "def print_const_bounds(l):\n",
    "    print(l.lower.c,l.upper.c)\n",
    "    \n",
    "def print_constraint(l):\n",
    "    print(l.lower.a, l.lower.b, l.lower.c)\n",
    "    print(l.upper.a, l.upper.b, l.upper.c)"
   ]
  },
  {
   "cell_type": "markdown",
   "metadata": {},
   "source": [
    "## One Step check"
   ]
  },
  {
   "cell_type": "code",
   "execution_count": 45,
   "metadata": {},
   "outputs": [
    {
     "name": "stdout",
     "output_type": "stream",
     "text": [
      "-1 -1 1\n",
      "-1 -1 1\n",
      "0.8009999999999999 -0.101 0.19998000000000002\n",
      "0.8029999999999999 -0.099 0.19602\n",
      "Box:  0.89096 0.90904 0.89096 0.90904\n"
     ]
    }
   ],
   "source": [
    "x0_bounds = BoxConstraints(x_lw_b,x_up_b)\n",
    "y0_bounds = BoxConstraints(y_lw_b,y_up_b)\n",
    "\n",
    "x_0 = LinearConstraints(Line2D(1,0,0),Line2D(1,0,0),x0_bounds,y0_bounds)\n",
    "y_0 = LinearConstraints(Line2D(0,1,0),Line2D(0,1,0),x0_bounds,y0_bounds)\n",
    "\n",
    "k_0 = LinearConstraints(Line2D(-1*constants[\"lambda\"],-1*constants[\"b\"],constants[\"a\"]),Line2D(-1*constants[\"lambda\"],-1*constants[\"b\"],constants[\"a\"]),x0_bounds, y0_bounds) # k_0 = a - by_t - \\lambda x_t\n",
    "l_0 = LinearConstraints(Line2D(constants[\"c\"],-1*constants[\"mu\"],-1*constants[\"d\"]),Line2D(constants[\"c\"],-1*constants[\"mu\"],-1*constants[\"d\"]),x0_bounds, y0_bounds)\n",
    "\n",
    "print_constraint(k_0)\n",
    "\n",
    "m_0 = k_0.mult(x_0)\n",
    "m_0 = m_0.mult_const(constants[\"del_t\"]).add(x_0)\n",
    "\n",
    "n_0 = l_0.mult(y_0)\n",
    "n_0 = n_0.mult_const(constants[\"del_t\"]).add(y_0)\n",
    "\n",
    "box_x, box_y = m_0.eval_box(), n_0.eval_box()\n",
    "\n",
    "print_constraint(m_0)\n",
    "print(\"Box: \",box_x.lower,box_x.upper,box_y.lower,box_y.upper)\n",
    "\n",
    "# l_0 = LinearConstraints(Line2D(constants[\"c\"],-1*constants[\"mu\"],constants[\"d\"]),Line2D(constants[\"c\"],-1*constants[\"mu\"],constants[\"d\"]),x0_bounds, y0_bounds) # k_0 = a - by_t - \\lambda x_t\n",
    "\n",
    "# m_0 = k_0.mult(x_0).mult_const(constants[\"del_t\"]).add(x_0)\n",
    "# n_0 = l_0.mult(y_0).mult_const(constants[\"del_t\"]).add(y_0)\n"
   ]
  },
  {
   "cell_type": "code",
   "execution_count": 48,
   "metadata": {},
   "outputs": [
    {
     "data": {
      "image/png": "[encoded data removed]",
      "text/plain": [
       "<Figure size 432x288 with 1 Axes>"
      ]
     },
     "metadata": {
      "needs_background": "light"
     },
     "output_type": "display_data"
    },
    {
     "data": {
      "image/png": "[encoded data removed]",
      "text/plain": [
       "<Figure size 432x288 with 1 Axes>"
      ]
     },
     "metadata": {
      "needs_background": "light"
     },
     "output_type": "display_data"
    },
    {
     "data": {
      "image/png": "[encoded data removed]",
      "text/plain": [
       "<Figure size 432x288 with 1 Axes>"
      ]
     },
     "metadata": {
      "needs_background": "light"
     },
     "output_type": "display_data"
    },
    {
     "data": {
      "text/plain": [
       "[<matplotlib.lines.Line2D at 0x11f0de750>]"
      ]
     },
     "execution_count": 48,
     "metadata": {},
     "output_type": "execute_result"
    },
    {
     "data": {
      "image/png": "[encoded data removed]",
      "text/plain": [
       "<Figure size 432x288 with 1 Axes>"
      ]
     },
     "metadata": {
      "needs_background": "light"
     },
     "output_type": "display_data"
    }
   ],
   "source": [
    "areas = []\n",
    "\n",
    "boxes = [[(x_lw_b,x_up_b),(y_lw_b,y_up_b)]]\n",
    "\n",
    "x0_bounds = BoxConstraints(x_lw_b,x_up_b)\n",
    "y0_bounds = BoxConstraints(y_lw_b,y_up_b)\n",
    "\n",
    "z_init = [1.01,1.01]\n",
    "\n",
    "zs = [z_init]\n",
    "\n",
    "x_0 = LinearConstraints(Line2D(1,0,0),Line2D(1,0,0),x0_bounds,y0_bounds)\n",
    "y_0 = LinearConstraints(Line2D(0,1,0),Line2D(0,1,0),x0_bounds,y0_bounds)\n",
    "\n",
    "for t in range(constants[\"T\"]):\n",
    "#     x_0 = LinearConstraints(Line2D(1,0,0),Line2D(1,0,0),x0_bounds,y0_bounds)\n",
    "#     y_0 = LinearConstraints(Line2D(0,1,0),Line2D(0,1,0),x0_bounds,y0_bounds)\n",
    "\n",
    "    k_0 = LinearConstraints(Line2D(-1*constants[\"lambda\"],-1*constants[\"b\"],constants[\"a\"]),Line2D(-1*constants[\"lambda\"],-1*constants[\"b\"],constants[\"a\"]),x0_bounds, y0_bounds) # k_0 = a - by_t - \\lambda x_t\n",
    "    l_0 = LinearConstraints(Line2D(constants[\"c\"],-1*constants[\"mu\"],-1*constants[\"d\"]),Line2D(constants[\"c\"],-1*constants[\"mu\"],-1*constants[\"d\"]),x0_bounds, y0_bounds)\n",
    "\n",
    "    m_0 = k_0.mult(x_0)\n",
    "    m_0 = m_0.mult_const(constants[\"del_t\"]).add(x_0)\n",
    "\n",
    "    n_0 = l_0.mult(y_0)\n",
    "    n_0 = n_0.mult_const(constants[\"del_t\"]).add(y_0)\n",
    "    \n",
    "    x_0, y_0 = m_0, n_0\n",
    "    box_x, box_y = x_0.eval_box(), y_0.eval_box()\n",
    "    areas.append((box_x.upper-box_x.lower)*(box_y.upper-box_y.lower))\n",
    "    boxes.append([(box_x.lower,box_x.upper),(box_y.lower,box_y.upper)])\n",
    "    \n",
    "    z_curr = zs[-1]\n",
    "    z_next = [(constants[\"a\"] - constants[\"b\"]*z_curr[1] - constants[\"lambda\"]*z_curr[0])*z_curr[0]*constants[\"del_t\"] + z_curr[0], (-1*constants[\"d\"] - constants[\"mu\"]*z_curr[1] + constants[\"c\"]*z_curr[0])*z_curr[1]*constants[\"del_t\"] + z_curr[1]]\n",
    "    zs.append(z_next)\n",
    "    ######### lil plot\n",
    "    fig = plt.figure(1)\n",
    "    xL,xU,yL,yU = box_x.lower,box_x.upper,box_y.lower,box_y.upper \n",
    "        #plt.clf()\n",
    "    plt.plot([x_lw_b,x_lw_b,x_up_b,x_up_b,x_lw_b],[y_lw_b,y_up_b,y_up_b,y_lw_b,y_lw_b],'b')\n",
    "    plt.plot([xL,xL,xU,xU,xL],[yL,yU,yU,yL,yL],'k')\n",
    "    plt.scatter(z_next[0],z_next[1])\n",
    "    fig.canvas.draw()   # draw\n",
    "    plt.pause(1.01)\n",
    "    ########\n",
    "    \n",
    "plt.figure()\n",
    "plt.plot(areas)"
   ]
  },
  {
   "cell_type": "code",
   "execution_count": 49,
   "metadata": {},
   "outputs": [
    {
     "name": "stdout",
     "output_type": "stream",
     "text": [
      "[(0.99, 1.01), (0.99, 1.01)]\n",
      "[(0.89096, 0.90904), (0.89096, 0.90904)]\n",
      "[(0.8018239199999999, 0.81817608), (0.8018239199999999, 0.81817608)]\n",
      "[(0.7216009758399999, 0.73639902416), (0.7216009758399999, 0.7363990241599999)]\n"
     ]
    }
   ],
   "source": [
    "for b in boxes: print(b)"
   ]
  },
  {
   "cell_type": "code",
   "execution_count": 50,
   "metadata": {},
   "outputs": [
    {
     "data": {
      "text/plain": [
       "[(0.89096, 0.9090400000000001), (0.89096, 0.9090400000000001)]"
      ]
     },
     "execution_count": 50,
     "metadata": {},
     "output_type": "execute_result"
    }
   ],
   "source": [
    "[(0.89096, 0.9090400000000001), (0.89096, 0.9090400000000001)]"
   ]
  },
  {
   "cell_type": "code",
   "execution_count": 51,
   "metadata": {},
   "outputs": [
    {
     "data": {
      "text/plain": [
       "[(0.81983415344, 0.83616586256), (0.8020185895999989, 0.8179886264)]"
      ]
     },
     "execution_count": 51,
     "metadata": {},
     "output_type": "execute_result"
    }
   ],
   "source": [
    "[(0.81983415344, 0.83616586256), (0.8020185895999989, 0.8179886264)]"
   ]
  },
  {
   "cell_type": "code",
   "execution_count": null,
   "metadata": {},
   "outputs": [],
   "source": []
  }
 ],
 "metadata": {
  "kernelspec": {
   "display_name": "Python 3",
   "language": "python",
   "name": "python3"
  },
  "language_info": {
   "codemirror_mode": {
    "name": "ipython",
    "version": 3
   },
   "file_extension": ".py",
   "mimetype": "text/x-python",
   "name": "python",
   "nbconvert_exporter": "python",
   "pygments_lexer": "ipython3",
   "version": "3.7.4"
  }
 },
 "nbformat": 4,
 "nbformat_minor": 4
}
