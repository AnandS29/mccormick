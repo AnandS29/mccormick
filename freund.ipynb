{
 "cells": [
  {
   "cell_type": "code",
   "execution_count": 35,
   "metadata": {},
   "outputs": [],
   "source": [
    "import torch\n",
    "import math\n",
    "import cvxpy as cp\n",
    "import numpy as np\n",
    "from constraints import *\n",
    "from helper import *\n",
    "import copy\n",
    "from matplotlib.patches import Rectangle\n",
    "import matplotlib.pyplot as plt"
   ]
  },
  {
   "cell_type": "code",
   "execution_count": 62,
   "metadata": {},
   "outputs": [],
   "source": [
    "def dA_2(i,j,k,l,n):\n",
    "    if i==k and j==l:\n",
    "        return 1\n",
    "    elif i==k and j==n+l:\n",
    "        return -1\n",
    "    return 0\n",
    "\n",
    "def dz_tilde(A,b,c):\n",
    "    m, n = A.shape[0], A.shape[1]\n",
    "    A2 = np.hstack([A,-A,np.eye(m)])\n",
    "    c2 = np.vstack([c,-c,np.zeros((m,1))])\n",
    "\n",
    "    dz_dA2, dz_db = dz_2(A2,b,c2)\n",
    "    dA = np.zeros((m,n))\n",
    "    for i in range(m):\n",
    "        for j in range(n):\n",
    "            s = 0\n",
    "            for k in range(m):\n",
    "                for l in range(2*n):\n",
    "                    s += dz_dA2[k,l]*dA_2(i,j,k,l,n)\n",
    "            dA[i,j] = s\n",
    "\n",
    "    db = dz_db\n",
    "\n",
    "    return dA, db\n",
    "\n",
    "def dz_2(A,b,c):\n",
    "    m, n = A.shape[0], A.shape[1]\n",
    "    A1 = np.zeros((m+1,n+1))\n",
    "    A1[0:m,0:n] = A\n",
    "    A1[0:m,n:] = -b\n",
    "    A1[m,n] = 1\n",
    "    b1 = np.zeros((m+1,1))\n",
    "    c1 = np.zeros((n+1,1))\n",
    "    c1[0:n,0:] = c\n",
    "    dA1 = dz(A1,b1,c1)\n",
    "\n",
    "    dA = dA1[0:m,0:n]\n",
    "    db = dA1[0:m,n:]\n",
    "\n",
    "    return dA, db\n",
    "\n",
    "def dz(A,b,c):\n",
    "    x = cp.Variable((A.shape[1],1))\n",
    "    constraints = [A*x <= b, x>=0]\n",
    "    obj = cp.Maximize(c.T@x)\n",
    "    prob = cp.Problem(obj, constraints)\n",
    "    p_opt = prob.solve()\n",
    "\n",
    "    x_opt = x.value\n",
    "    u_opt = constraints[0].dual_value\n",
    "\n",
    "    dA = -u_opt@x_opt.T\n",
    "\n",
    "    return dA"
   ]
  },
  {
   "cell_type": "code",
   "execution_count": 63,
   "metadata": {},
   "outputs": [],
   "source": [
    "class Freund(torch.autograd.Function):\n",
    "    @staticmethod\n",
    "    def forward(ctx, A, b, c):\n",
    "        # ctx is a context object that can be used to stash information\n",
    "        # for backward computation\n",
    "        x = cp.Variable((A.shape[1],1))\n",
    "        \n",
    "        constraints = [A*x <= b]\n",
    "\n",
    "        obj = cp.Maximize(c.T@x)\n",
    "        prob = cp.Problem(obj, constraints)\n",
    "        p_opt = prob.solve()\n",
    "        \n",
    "        ctx.x_opt = x.value\n",
    "        ctx.u_opt = constraints[0].dual_value\n",
    "        \n",
    "        ctx.A = A\n",
    "        ctx.b = b\n",
    "        ctx.c = c\n",
    "        \n",
    "        return torch.tensor(p_opt)\n",
    "\n",
    "    @staticmethod\n",
    "    def backward(ctx, grad_output):\n",
    "        m = ctx.u_opt.shape[0]\n",
    "        n = ctx.x_opt.shape[0]\n",
    "        dA, db = dz_tilde(ctx.A,ctx.b,ctx.c) # -ctx.u_opt@ctx.x_opt.T\n",
    "        return torch.from_numpy(dA), torch.from_numpy(db), None"
   ]
  },
  {
   "cell_type": "code",
   "execution_count": 64,
   "metadata": {},
   "outputs": [
    {
     "name": "stdout",
     "output_type": "stream",
     "text": [
      "tensor([[-5.6106e-08],\n",
      "        [-1.3728e-08],\n",
      "        [-5.6106e-08],\n",
      "        [-1.3728e-08]])\n"
     ]
    }
   ],
   "source": [
    "A = torch.tensor([[1.,0.],[-1.,0.],[0.,1.],[0.,-1.]], requires_grad=False)\n",
    "b = torch.tensor([[1.],[1.],[1.],[1.]], requires_grad=True)\n",
    "c = np.array([[1,1]]).T\n",
    "freund = Freund.apply\n",
    "y = freund(A,b,c)\n",
    "y.backward()\n",
    "# print(A.grad)\n",
    "print(b.grad)"
   ]
  },
  {
   "cell_type": "markdown",
   "metadata": {},
   "source": [
    "## Example: Lotka-Volterra\n",
    "\n",
    "Lotka Volterra (discretized) dynamics:\n",
    "\n",
    "$x_{t+1} = (a - by_t - \\lambda x_t)x_t \\Delta_t + x_t $         \n",
    "$y_{t+1} = (cx_t - d - \\mu y_t)y_t \\Delta_t + y_t $\n",
    "\n",
    "$a,b,c,d,\\lambda,\\mu > 0 $"
   ]
  },
  {
   "cell_type": "code",
   "execution_count": 65,
   "metadata": {},
   "outputs": [],
   "source": [
    "def forwardEulerLV(init,constants,plot=False):\n",
    "    x0, y0 = init[0], init[1]\n",
    "    T = constants[\"T\"]\n",
    "    a, b, lamb, c, d, mu, del_t = constants[\"a\"], constants[\"b\"], constants[\"lambda\"], constants[\"c\"], constants[\"d\"], constants[\"mu\"], constants[\"del_t\"]\n",
    "    \n",
    "    xs, ys = [x0], [y0]\n",
    "    x,y = x0, y0\n",
    "    for t in range(T):\n",
    "        x, y = (a-b*y-lamb*x)*x*del_t + x, (c*x-d-mu*y)*y*del_t + y\n",
    "        xs.append(x)\n",
    "        ys.append(y)\n",
    "        \n",
    "    if plot:\n",
    "        plt.figure()\n",
    "        plt.plot(xs, ys, '*')\n",
    "        \n",
    "    traj = [(xs[i],ys[i]) for i in range(len(xs))]\n",
    "    return traj"
   ]
  },
  {
   "cell_type": "code",
   "execution_count": 66,
   "metadata": {},
   "outputs": [],
   "source": [
    "# Line\n",
    "def eval_l(coeffs, A_init, b_init):\n",
    "    c = np.array([[coeffs[0],coeffs[1]]]).T\n",
    "    lower, upper = -1.*freund(A_init,b_init,-1.*c), freund(A_init,b_init,c)\n",
    "    return lower + coeffs[2], upper + coeffs[2]\n",
    "\n",
    "def add_const_l(coeffs, c):\n",
    "    return [coeffs[0], coeffs[1], coeffs[2]+c]\n",
    "\n",
    "def mul_const_l(coeffs, c):\n",
    "    return [c*coeffs[0], c*coeffs[1], c*coeffs[2]]\n",
    "\n",
    "def add_l(coeffs_A, coeffs_B):\n",
    "    return [coeffs_A[0] + coeffs_B[0], coeffs_A[1] + coeffs_B[1], coeffs_A[2] + coeffs_B[2]]\n"
   ]
  },
  {
   "cell_type": "markdown",
   "metadata": {},
   "source": [
    "### McCormick Bounds\n",
    "\n",
    "$w \\geq x_Uy + xy_U - x_Uy_U$\n",
    "\n",
    "$w \\leq x_Uy + xy_L - x_Uy_L$\n"
   ]
  },
  {
   "cell_type": "code",
   "execution_count": 67,
   "metadata": {},
   "outputs": [],
   "source": [
    "# Constraints\n",
    "\n",
    "def add_const(coeffs_lower, coeffs_upper, c):\n",
    "    return add_const_l(coeffs_lower, c), add_const_l(coeffs_upper, c)\n",
    "\n",
    "def mul_const(coeffs_lower, coeffs_upper, c):\n",
    "    if c < 0:\n",
    "        return mul_const_l(coeffs_upper, c), mul_const_l(coeffs_lower, c)\n",
    "    return mul_const_l(coeffs_lower, c), mul_const_l(coeffs_upper, c)\n",
    "\n",
    "def add(coeffs_lower_x, coeffs_upper_x, coeffs_lower_y, coeffs_upper_y):\n",
    "    return add_l(coeffs_lower_x, coeffs_lower_y), add_l(coeffs_upper_x, coeffs_upper_y)\n",
    "\n",
    "def eval_box(coeffs_lower, coeffs_upper, A_init, b_init):\n",
    "    lower_val, _ = eval_l(coeffs_lower, A_init, b_init)\n",
    "    _, upper_val = eval_l(coeffs_upper, A_init, b_init)\n",
    "    return lower_val, upper_val\n",
    "    \n",
    "def mul(coeffs_lower_x, coeffs_upper_x, coeffs_lower_y, coeffs_upper_y, A_init, B_init):\n",
    "    xL, xU = eval_box(coeffs_lower_x, coeffs_upper_x, A_init, b_init)\n",
    "    yL, yU = eval_box(coeffs_lower_y, coeffs_upper_y, A_init, b_init)\n",
    "    \n",
    "    \n",
    "    lower_1 = (mul_const_l(coeffs_upper_y, xU) if xU < 0 else mul_const_l(coeffs_lower_y, xU))\n",
    "    lower_1 = add_l(lower_1, (mul_const_l(coeffs_upper_x, yU) if yU < 0 else mul_const_l(coeffs_lower_x, yU)))\n",
    "    lower_1 = add_const_l(lower_1, -1*xU*yU)\n",
    "    \n",
    "    upper_1 = (mul_const_l(coeffs_upper_y, xU) if xU > 0 else mul_const_l(coeffs_lower_y, xU))\n",
    "    upper_1 = add_l(upper_1, (mul_const_l(coeffs_upper_x, yL) if yL > 0 else mul_const_l(coeffs_lower_x, yL)))\n",
    "    upper_1 = add_const_l(upper_1, -1*xU*yL)\n",
    "    \n",
    "#     a_lower, a_upper = mul_const(coeffs_lower_y, coeffs_upper_y, xU)\n",
    "#     b_lower, b_upper = mul_const(coeffs_lower_x, coeffs_upper_x, yU)\n",
    "#     ab_lower, ab_upper = add(a_lower, a_upper, b_lower, b_upper)\n",
    "#     abc_lower, abc_upper = add_const(ab_lower, ab_upper, -1*xU*yU)\n",
    "    \n",
    "#     d_lower, d_upper = mul_const(coeffs_lower_y, coeffs_upper_y, xU)\n",
    "#     e_lower, e_upper = mul_const(coeffs_lower_x, coeffs_upper_x, yL)\n",
    "#     de_lower, de_upper = add(d_lower, d_upper, e_lower, e_upper)\n",
    "#     def_lower, def_upper = add_const(ab_lower, ab_upper, -1*xU*yL)\n",
    "    \n",
    "    return lower_1, upper_1"
   ]
  },
  {
   "cell_type": "code",
   "execution_count": 68,
   "metadata": {},
   "outputs": [],
   "source": [
    "T = 5\n",
    "a, b, c, d, l, m = 1, 1, 1, 1, 1, 1\n",
    "dt = 0.1\n",
    "x0, y0 = 1, 1\n",
    "x_dev, y_dev = 0.1, 0.1\n",
    "\n",
    "A_init = torch.tensor([[1.,0.],[-1.,0.],[0.,1.],[0.,-1.]], requires_grad=False)\n",
    "b_init = torch.tensor([[x0 + x_dev],[-(x0 - x_dev)],[y0 + y_dev],[-(y0 - y_dev)]], requires_grad=True)\n",
    "\n",
    "x_range, y_range = [x0 - x_dev, x0 + x_dev], [y0 - y_dev, y0 + y_dev]\n",
    "\n",
    "# constants for dynamics\n",
    "constants = {\"a\":a, \"b\":b, \"lambda\":l, \n",
    "             \"c\":c, \"d\":d, \"mu\":m, \n",
    "             \"T\":T, \"del_t\":dt,\n",
    "             \"x0\":x0, \"y0\":y0}"
   ]
  },
  {
   "cell_type": "code",
   "execution_count": 69,
   "metadata": {},
   "outputs": [],
   "source": [
    "boxes = []\n",
    "\n",
    "x_lower, x_upper = [1,0,0], [1,0,0]\n",
    "y_lower, y_upper = [0,1,0], [0,1,0]\n",
    "\n",
    "for t in range(0,T):\n",
    "#     print(\"x:\", x_lower, x_upper)\n",
    "    xL, xU = eval_box(x_lower, x_upper, A_init, b_init)\n",
    "    yL, yU = eval_box(y_lower, y_upper, A_init, b_init)\n",
    "    boxes.append(([xL.detach().numpy(), xU.detach().numpy()],[yL.detach().numpy(), yU.detach().numpy()]))\n",
    "    \n",
    "#     print(\"x:\", x_lower, x_upper)\n",
    "    a_lower, a_upper = mul_const(x_lower, x_upper, -1*l)\n",
    "#     print(a_lower, a_upper)\n",
    "    b_lower, b_upper = mul_const(y_lower, y_upper, -1*b)\n",
    "#     print(b_lower, b_upper)\n",
    "    ab_lower, ab_upper = add(a_lower, a_upper, b_lower, b_upper)\n",
    "#     print(ab_lower, ab_upper)\n",
    "    abc_lower, abc_upper = add_const(ab_lower, ab_upper, a)\n",
    "#     print(abc_lower, abc_upper)\n",
    "    d_lower, d_upper = mul_const(x_lower, x_upper, dt)\n",
    "#     print(d_lower, d_upper)\n",
    "    abcd_lower, abcd_upper = mul(abc_lower, abc_upper, d_lower, d_upper, A_init, b_init)\n",
    "#     print(abcd_lower, abcd_upper)\n",
    "    abcde_lower, abcde_upper = add(abcd_lower, abcd_upper, x_lower, x_upper)\n",
    "    \n",
    "    f_lower, f_upper = mul_const(x_lower, x_upper, c)\n",
    "    g_lower, g_upper = mul_const(y_lower, y_upper, -1*m)\n",
    "    fg_lower, fg_upper = add(f_lower, f_upper, g_lower, g_upper)\n",
    "    fgh_lower, fgh_upper = add_const(fg_lower, fg_upper, -1*d)\n",
    "    i_lower, i_upper = mul_const(y_lower, y_upper, dt)\n",
    "    fghi_lower, fghi_upper = mul(fgh_lower, fgh_upper, i_lower, i_upper, A_init, b_init)\n",
    "    fghij_lower, fghij_upper = add(fghi_lower, fghi_upper, y_lower, y_upper)\n",
    "    \n",
    "    x_lower, x_upper = abcde_lower, abcde_upper\n",
    "    y_lower, y_upper = fghij_lower, fghij_upper\n",
    "    \n",
    "#     break\n",
    "\n",
    "xL, xU = eval_box(x_lower, x_upper, A_init, b_init)\n",
    "yL, yU = eval_box(y_lower, y_upper, A_init, b_init)\n",
    "boxes.append(([xL.detach().numpy(), xU.detach().numpy()],[yL.detach().numpy(), yU.detach().numpy()]))"
   ]
  },
  {
   "cell_type": "code",
   "execution_count": 70,
   "metadata": {},
   "outputs": [],
   "source": [
    "def plot_boxes_2d(boxes):\n",
    "    plt.figure()\n",
    "    for i in range(len(boxes)):\n",
    "        box = boxes[i]\n",
    "        xL, xU = box[0]\n",
    "        yL, yU = box[1]\n",
    "        plt.plot([xL,xL,xU,xU,xL],[yL,yU,yU,yL,yL],'k')\n",
    "    plt.show()"
   ]
  },
  {
   "cell_type": "code",
   "execution_count": 71,
   "metadata": {},
   "outputs": [
    {
     "data": {
      "image/png": "[encoded data removed]",
      "text/plain": [
       "<Figure size 432x288 with 1 Axes>"
      ]
     },
     "metadata": {
      "needs_background": "light"
     },
     "output_type": "display_data"
    }
   ],
   "source": [
    "plot_boxes_2d(boxes)"
   ]
  },
  {
   "cell_type": "code",
   "execution_count": 72,
   "metadata": {},
   "outputs": [
    {
     "name": "stdout",
     "output_type": "stream",
     "text": [
      "0.03999895701348137\n",
      "0.03534399760363509\n",
      "0.03063167829104399\n",
      "0.026558772138820682\n",
      "0.02329263980652273\n",
      "0.02079931290492695\n"
     ]
    }
   ],
   "source": [
    "for b in boxes:\n",
    "    xL, xU = b[0]\n",
    "    yL, yU = b[1]\n",
    "    print((xU-xL)*(yU-yL))"
   ]
  },
  {
   "cell_type": "code",
   "execution_count": 73,
   "metadata": {},
   "outputs": [
    {
     "data": {
      "text/plain": [
       "([array(0.90001421), array(1.1000116)], [array(0.90001421), array(1.1000116)])"
      ]
     },
     "execution_count": 73,
     "metadata": {},
     "output_type": "execute_result"
    }
   ],
   "source": [
    "boxes[0]"
   ]
  },
  {
   "cell_type": "code",
   "execution_count": 74,
   "metadata": {},
   "outputs": [
    {
     "name": "stdout",
     "output_type": "stream",
     "text": [
      "0.9000073794293308 0.9000142073439803 1.1000115998606863\n",
      "Time:  0\n",
      "(0.9000073794293308, 1.0466173500342042)\n",
      "([array(0.90001421), array(1.1000116)], [array(0.90001421), array(1.1000116)])\n",
      "0\n",
      "\n",
      "False\n"
     ]
    },
    {
     "data": {
      "image/png": "[encoded data removed]",
      "text/plain": [
       "<Figure size 432x288 with 1 Axes>"
      ]
     },
     "metadata": {
      "needs_background": "light"
     },
     "output_type": "display_data"
    }
   ],
   "source": [
    "num_samples = 10000\n",
    "print(verify_valid_boxes(boxes,[x_range,y_range],n=num_samples,forwardEuler=forwardEulerLV,constants=constants, debug=True))"
   ]
  },
  {
   "cell_type": "code",
   "execution_count": 75,
   "metadata": {},
   "outputs": [
    {
     "name": "stdout",
     "output_type": "stream",
     "text": [
      "tensor([[1.0036e-05],\n",
      "        [2.8632e-06],\n",
      "        [4.6899e-06],\n",
      "        [1.5830e-06]])\n"
     ]
    }
   ],
   "source": [
    "a_x_upper, b_x_upper, c_x_upper = x_upper\n",
    "a_x_lower, b_x_lower, c_x_lower = x_lower\n",
    "a_y_upper, b_y_upper, c_y_upper = y_upper\n",
    "a_y_lower, b_y_lower, c_y_lower = y_lower\n",
    "\n",
    "c = np.array([[1,1,0,0]]).T\n",
    "\n",
    "A_final = torch.tensor([[1.,0., -1.*a_x_upper, -1.*b_x_upper],\n",
    "                       [-1.,0., a_x_lower, b_x_lower],\n",
    "                       [0.,1., -1.*a_y_upper, -1.*b_y_upper],\n",
    "                       [0.,-1., a_y_lower, b_y_lower]], requires_grad=True)\n",
    "b_final = torch.tensor([[c_x_upper],[-1.*c_x_lower],[c_y_upper],[-1.*c_y_lower]], requires_grad=True)\n",
    "    \n",
    "z = torch.zeros((4,2))\n",
    "A_freund = torch.vstack((torch.hstack((z,A_init)),A_final))\n",
    "b_freund = torch.vstack((b_init,b_final))\n",
    "\n",
    "y = freund(A_freund,b_freund,c)\n",
    "y.backward()\n",
    "print(b_init.grad)"
   ]
  },
  {
   "cell_type": "code",
   "execution_count": 76,
   "metadata": {},
   "outputs": [],
   "source": [
    "def compute_rs(b_constraint, params):\n",
    "    T = params[\"T\"]\n",
    "    a, b, c, d, l, m = params[\"a\"], params[\"b\"], params[\"c\"], params[\"d\"], params[\"l\"], params[\"m\"]\n",
    "    dt = params[\"dt\"]\n",
    "    x0, y0 = params[\"x0\"], params[\"y0\"]\n",
    "\n",
    "    A_init = torch.tensor([[1.,0.],[-1.,0.],[0.,1.],[0.,-1.]], requires_grad=False)\n",
    "    b_init = torch.tensor(b_constraint, requires_grad=True)\n",
    "\n",
    "    x_range, y_range = [x0 - x_dev, x0 + x_dev], [y0 - y_dev, y0 + y_dev]\n",
    "\n",
    "    boxes = []\n",
    "\n",
    "    x_lower, x_upper = [1,0,0], [1,0,0]\n",
    "    y_lower, y_upper = [0,1,0], [0,1,0]\n",
    "\n",
    "    for t in range(0,T):\n",
    "        xL, xU = eval_box(x_lower, x_upper, A_init, b_init)\n",
    "        yL, yU = eval_box(y_lower, y_upper, A_init, b_init)\n",
    "        boxes.append(([xL, xU],[yL, yU]))\n",
    "\n",
    "        a_lower, a_upper = mul_const(x_lower, x_upper, -1*l)\n",
    "        b_lower, b_upper = mul_const(y_lower, y_upper, -1*b)\n",
    "        ab_lower, ab_upper = add(a_lower, a_upper, b_lower, b_upper)\n",
    "        abc_lower, abc_upper = add_const(ab_lower, ab_upper, a)\n",
    "        d_lower, d_upper = mul_const(x_lower, x_upper, dt)\n",
    "        abcd_lower, abcd_upper = mul(abc_lower, abc_upper, d_lower, d_upper, A_init, b_init)\n",
    "        abcde_lower, abcde_upper = add(abcd_lower, abcd_upper, x_lower, x_upper)\n",
    "\n",
    "        f_lower, f_upper = mul_const(x_lower, x_upper, c)\n",
    "        g_lower, g_upper = mul_const(y_lower, y_upper, -1*m)\n",
    "        fg_lower, fg_upper = add(f_lower, f_upper, g_lower, g_upper)\n",
    "        fgh_lower, fgh_upper = add_const(fg_lower, fg_upper, -1*d)\n",
    "        i_lower, i_upper = mul_const(y_lower, y_upper, dt)\n",
    "        fghi_lower, fghi_upper = mul(fgh_lower, fgh_upper, i_lower, i_upper, A_init, b_init)\n",
    "        fghij_lower, fghij_upper = add(fghi_lower, fghi_upper, y_lower, y_upper)\n",
    "\n",
    "        x_lower, x_upper = abcde_lower, abcde_upper\n",
    "        y_lower, y_upper = fghij_lower, fghij_upper\n",
    "\n",
    "    xL, xU = eval_box(x_lower, x_upper, A_init, b_init)\n",
    "    yL, yU = eval_box(y_lower, y_upper, A_init, b_init)\n",
    "    boxes.append(([xL, xU],[yL, yU]))\n",
    "\n",
    "    a_x_upper, b_x_upper, c_x_upper = x_upper\n",
    "    a_x_lower, b_x_lower, c_x_lower = x_lower\n",
    "    a_y_upper, b_y_upper, c_y_upper = y_upper\n",
    "    a_y_lower, b_y_lower, c_y_lower = y_lower\n",
    "\n",
    "    c = np.array([[1,1,0,0]]).T\n",
    "\n",
    "    A_final = torch.tensor([[1.,0., -1.*a_x_upper, -1.*b_x_upper],\n",
    "                           [-1.,0., a_x_lower, b_x_lower],\n",
    "                           [0.,1., -1.*a_y_upper, -1.*b_y_upper],\n",
    "                           [0.,-1., a_y_lower, b_y_lower]], requires_grad=True)\n",
    "    b_final = torch.tensor([[c_x_upper],[-1.*c_x_lower],[c_y_upper],[-1.*c_y_lower]], requires_grad=True)\n",
    "\n",
    "    z = torch.zeros((4,2))\n",
    "    A_freund = torch.vstack((torch.hstack((z,A_init)),A_final))\n",
    "    b_freund = torch.vstack((b_init,b_final))\n",
    "\n",
    "    y = freund(A_freund,b_freund,c)\n",
    "    y.backward()\n",
    "    \n",
    "    return boxes, y.detach().numpy(), b_init.grad.numpy()\n",
    "\n",
    "def numerical_grad(f,b,epsilon,params):\n",
    "    ys_1, ys_2 = [], []\n",
    "    size = b.shape[0]\n",
    "    for i in range(len(b)):\n",
    "        b_dev = b[:,:] + np.eye(1,size,i).T*epsilon\n",
    "        _, y, _ = f(b_dev, params)\n",
    "        ys_1.append(y)\n",
    "        \n",
    "        b_dev = b[:,:] - np.eye(1,size,i).T*epsilon\n",
    "        _, y, _ = f(b_dev, params)\n",
    "        ys_2.append(y)\n",
    "        \n",
    "#     _, y, _ = compute_rs(b_constraint, params)\n",
    "    return (np.array([ys_1]).T - np.array([ys_2]).T)/(2*epsilon)"
   ]
  },
  {
   "cell_type": "code",
   "execution_count": 77,
   "metadata": {},
   "outputs": [],
   "source": [
    "params = {\"T\":5, \"a\":1, \"b\":1, \"c\":1, \"d\":1, \"l\":1, \"m\":1, \"dt\":0.1, \"C\":np.array([[1,1,0,0]]).T,\n",
    "         \"x0\":1, \"y0\":1}\n",
    "bounds = [[0.5,1.5],[0.5,1.5]]"
   ]
  },
  {
   "cell_type": "code",
   "execution_count": 78,
   "metadata": {},
   "outputs": [
    {
     "name": "stdout",
     "output_type": "stream",
     "text": [
      "[[0.64644213]\n",
      " [0.        ]\n",
      " [0.2460263 ]\n",
      " [0.        ]]\n",
      "[[0.64644213]\n",
      " [0.        ]\n",
      " [0.2460263 ]\n",
      " [0.        ]]\n",
      "[[-6.2564391e-06]\n",
      " [-1.9466809e-06]\n",
      " [-3.1650211e-06]\n",
      " [-1.3292547e-06]]\n"
     ]
    }
   ],
   "source": [
    "b_constraint = [[bounds[0][1]],[-bounds[0][0]],[bounds[1][1]],[-bounds[1][0]]]\n",
    "print(numerical_grad(compute_rs,np.array(b_constraint),0.1,params))\n",
    "print(numerical_grad(compute_rs,np.array(b_constraint),0.001,params))\n",
    "_, _, torch_grad = compute_rs(b_constraint, params)\n",
    "print(torch_grad)"
   ]
  },
  {
   "cell_type": "markdown",
   "metadata": {},
   "source": [
    "### Testing Numerical Gradient Calculation"
   ]
  },
  {
   "cell_type": "code",
   "execution_count": 79,
   "metadata": {},
   "outputs": [
    {
     "name": "stdout",
     "output_type": "stream",
     "text": [
      "[[2.]\n",
      " [2.]\n",
      " [2.]\n",
      " [2.]\n",
      " [2.]]\n",
      "[[1.]\n",
      " [1.]\n",
      " [1.]\n",
      " [1.]\n",
      " [1.]]\n",
      "[[2.]\n",
      " [2.]\n",
      " [2.]\n",
      " [2.]\n",
      " [2.]]\n",
      "[[1.]\n",
      " [1.]\n",
      " [1.]\n",
      " [1.]\n",
      " [1.]]\n",
      "[[2.]\n",
      " [2.]\n",
      " [2.]\n",
      " [2.]\n",
      " [2.]]\n",
      "[[1.]\n",
      " [1.]\n",
      " [1.]\n",
      " [1.]\n",
      " [1.]]\n"
     ]
    }
   ],
   "source": [
    "def f(x,params):\n",
    "    return None, np.square(np.linalg.norm(x,2)), None\n",
    "def g(x,params):\n",
    "    return None, np.sum(x), None\n",
    "for eps in [0.1, 0.01, 0.001]:\n",
    "    print(numerical_grad(f,np.array([[1,1,1,1,1]]).T,eps,[]))\n",
    "    print(numerical_grad(g,np.array([[1,1,1,1,1]]).T,eps,[]))"
   ]
  },
  {
   "cell_type": "markdown",
   "metadata": {},
   "source": [
    "## Refinement Code"
   ]
  },
  {
   "cell_type": "code",
   "execution_count": 80,
   "metadata": {},
   "outputs": [],
   "source": [
    "class RefinedFRSTree:\n",
    "    def __init__(self, bounds, params, refinement_level):\n",
    "        self.bounds = copy.deepcopy(bounds)\n",
    "        self.params = params.copy()\n",
    "        self.refinement_level = refinement_level\n",
    "        \n",
    "        boxes, _, grad = self.compute_rs(self.bounds, self.params)\n",
    "        self.rs = boxes\n",
    "        \n",
    "        self.left, self.right = None, None\n",
    "        if self.refinement_level > 0:\n",
    "            d = [b[1]-b[0] for b in self.bounds]\n",
    "            dz = []\n",
    "            for el in d:\n",
    "                dz.append(el)\n",
    "                dz.append(el)\n",
    "            split_ind = np.argmax(np.diag(dz)@grad)//2 # split where the change is most positive as c points in the direction of the obstacle\n",
    "            bounds_l, bounds_r = copy.deepcopy(self.bounds), copy.deepcopy(self.bounds)\n",
    "            split_val = (self.bounds[split_ind][0] + self.bounds[split_ind][1])/2\n",
    "            bounds_l[split_ind][1] = split_val\n",
    "            bounds_r[split_ind][0] = split_val\n",
    "            self.left = RefinedFRSTree(bounds_l, self.params, self.refinement_level-1)\n",
    "            self.right = RefinedFRSTree(bounds_r, self.params, self.refinement_level-1)\n",
    "            \n",
    "    def compute_rs(self, bounds, params):\n",
    "        T = params[\"T\"]\n",
    "        a, b, c, d, l, m = params[\"a\"], params[\"b\"], params[\"c\"], params[\"d\"], params[\"l\"], params[\"m\"]\n",
    "        dt = params[\"dt\"]\n",
    "        x0, y0 = params[\"x0\"], params[\"y0\"]\n",
    "        \n",
    "        A_init = torch.tensor([[1.,0.],[-1.,0.],[0.,1.],[0.,-1.]], requires_grad=False)\n",
    "        b_init = torch.tensor([[bounds[0][1]],[-bounds[0][0]],[bounds[1][1]],[-bounds[1][0]]], requires_grad=True)\n",
    "\n",
    "        x_range, y_range = [x0 - x_dev, x0 + x_dev], [y0 - y_dev, y0 + y_dev]\n",
    "        \n",
    "        boxes = []\n",
    "\n",
    "        x_lower, x_upper = [1,0,0], [1,0,0]\n",
    "        y_lower, y_upper = [0,1,0], [0,1,0]\n",
    "\n",
    "        for t in range(0,T):\n",
    "            xL, xU = eval_box(x_lower, x_upper, A_init, b_init)\n",
    "            yL, yU = eval_box(y_lower, y_upper, A_init, b_init)\n",
    "            boxes.append(([xL, xU],[yL, yU]))\n",
    "\n",
    "            a_lower, a_upper = mul_const(x_lower, x_upper, -1*l)\n",
    "            b_lower, b_upper = mul_const(y_lower, y_upper, -1*b)\n",
    "            ab_lower, ab_upper = add(a_lower, a_upper, b_lower, b_upper)\n",
    "            abc_lower, abc_upper = add_const(ab_lower, ab_upper, a)\n",
    "            d_lower, d_upper = mul_const(x_lower, x_upper, dt)\n",
    "            abcd_lower, abcd_upper = mul(abc_lower, abc_upper, d_lower, d_upper, A_init, b_init)\n",
    "            abcde_lower, abcde_upper = add(abcd_lower, abcd_upper, x_lower, x_upper)\n",
    "\n",
    "            f_lower, f_upper = mul_const(x_lower, x_upper, c)\n",
    "            g_lower, g_upper = mul_const(y_lower, y_upper, -1*m)\n",
    "            fg_lower, fg_upper = add(f_lower, f_upper, g_lower, g_upper)\n",
    "            fgh_lower, fgh_upper = add_const(fg_lower, fg_upper, -1*d)\n",
    "            i_lower, i_upper = mul_const(y_lower, y_upper, dt)\n",
    "            fghi_lower, fghi_upper = mul(fgh_lower, fgh_upper, i_lower, i_upper, A_init, b_init)\n",
    "            fghij_lower, fghij_upper = add(fghi_lower, fghi_upper, y_lower, y_upper)\n",
    "\n",
    "            x_lower, x_upper = abcde_lower, abcde_upper\n",
    "            y_lower, y_upper = fghij_lower, fghij_upper\n",
    "\n",
    "        xL, xU = eval_box(x_lower, x_upper, A_init, b_init)\n",
    "        yL, yU = eval_box(y_lower, y_upper, A_init, b_init)\n",
    "        boxes.append(([xL, xU],[yL, yU]))\n",
    "        \n",
    "        a_x_upper, b_x_upper, c_x_upper = x_upper\n",
    "        a_x_lower, b_x_lower, c_x_lower = x_lower\n",
    "        a_y_upper, b_y_upper, c_y_upper = y_upper\n",
    "        a_y_lower, b_y_lower, c_y_lower = y_lower\n",
    "\n",
    "        c = np.array([[1,1,0,0]]).T\n",
    "\n",
    "        A_final = torch.tensor([[1.,0., -1.*a_x_upper, -1.*b_x_upper],\n",
    "                               [-1.,0., a_x_lower, b_x_lower],\n",
    "                               [0.,1., -1.*a_y_upper, -1.*b_y_upper],\n",
    "                               [0.,-1., a_y_lower, b_y_lower]], requires_grad=True)\n",
    "        b_final = torch.tensor([[c_x_upper],[-1.*c_x_lower],[c_y_upper],[-1.*c_y_lower]], requires_grad=True)\n",
    "\n",
    "        z = torch.zeros((4,2))\n",
    "        A_freund = torch.vstack((torch.hstack((z,A_init)),A_final))\n",
    "        b_freund = torch.vstack((b_init,b_final))\n",
    "\n",
    "        y = freund(A_freund,b_freund,c)\n",
    "        y.backward()\n",
    "\n",
    "        return boxes, y.detach().numpy(), b_init.grad.numpy()\n",
    "    \n",
    "    def collect_rs(self,depth):\n",
    "        ret = []\n",
    "        if depth==0:\n",
    "            ret.append(self.rs)\n",
    "        elif depth>0:\n",
    "            ret.extend(self.left.collect_rs(depth-1))\n",
    "            ret.extend(self.right.collect_rs(depth-1))\n",
    "        return ret\n",
    "        "
   ]
  },
  {
   "cell_type": "code",
   "execution_count": 81,
   "metadata": {},
   "outputs": [],
   "source": [
    "params = {\"T\":10, \"a\":1, \"b\":1, \"c\":1, \"d\":1, \"l\":1, \"m\":1, \"dt\":0.1, \"C\":np.array([[1,0,0,0]]).T,\n",
    "         \"x0\":1, \"y0\":1}\n",
    "bounds = [[5.,10.],[5.,10.]]\n",
    "r = 3\n",
    "root_FRS = RefinedFRSTree(bounds, params, r)"
   ]
  },
  {
   "cell_type": "code",
   "execution_count": 82,
   "metadata": {},
   "outputs": [
    {
     "data": {
      "text/plain": [
       "8"
      ]
     },
     "execution_count": 82,
     "metadata": {},
     "output_type": "execute_result"
    }
   ],
   "source": [
    "len(root_FRS.collect_rs(r))"
   ]
  },
  {
   "cell_type": "code",
   "execution_count": 83,
   "metadata": {},
   "outputs": [],
   "source": [
    "def plot_boxes_refined(c,b=bounds):\n",
    "    fig, ax = plt.subplots()\n",
    "    ax.set_xlim([bounds[0][0]-5, bounds[0][1]+5])\n",
    "    ax.set_ylim([bounds[1][0]-5, bounds[1][1]+5])\n",
    "    for boxes in c:\n",
    "        for i in range(len(boxes)):\n",
    "            box = boxes[i]\n",
    "            xL, xU = box[0]\n",
    "            yL, yU = box[1]\n",
    "            plt.plot([xL,xL,xU,xU,xL],[yL,yU,yU,yL,yL],'k')\n",
    "    plt.show()\n",
    "\n",
    "def plot_boxes_refined_initial(c,b=bounds):\n",
    "    fig, ax = plt.subplots()\n",
    "    ax.set_xlim([bounds[0][0]-5, bounds[0][1]+5])\n",
    "    ax.set_ylim([bounds[1][0]-5, bounds[1][1]+5])\n",
    "    for boxes in c:\n",
    "        box = boxes[0]\n",
    "        xL, xU = box[0]\n",
    "        yL, yU = box[1]\n",
    "        plt.plot([xL,xL,xU,xU,xL],[yL,yU,yU,yL,yL],'k')\n",
    "#         ax.add_patch(Rectangle((xL, yL), xU-xL, yU-yL))\n",
    "    plt.show()\n",
    "\n",
    "def plot_boxes_refined_final(c,b=bounds):\n",
    "    fig, ax = plt.subplots()\n",
    "    ax.set_xlim([bounds[0][0]-5, bounds[0][1]+5])\n",
    "    ax.set_ylim([bounds[1][0]-5, bounds[1][1]+5])\n",
    "    for boxes in c:\n",
    "        box = boxes[-1]\n",
    "        xL, xU = box[0]\n",
    "        yL, yU = box[1]\n",
    "        plt.plot([xL,xL,xU,xU,xL],[yL,yU,yU,yL,yL],'k')\n",
    "#         ax.add_patch(Rectangle((xL, yL), xU-xL, yU-yL))\n",
    "    plt.show()"
   ]
  },
  {
   "cell_type": "code",
   "execution_count": 84,
   "metadata": {},
   "outputs": [
    {
     "data": {
      "image/png": "[encoded data removed]",
      "text/plain": [
       "<Figure size 432x288 with 1 Axes>"
      ]
     },
     "metadata": {
      "needs_background": "light"
     },
     "output_type": "display_data"
    },
    {
     "data": {
      "image/png": "[encoded data removed]",
      "text/plain": [
       "<Figure size 432x288 with 1 Axes>"
      ]
     },
     "metadata": {
      "needs_background": "light"
     },
     "output_type": "display_data"
    },
    {
     "data": {
      "image/png": "[encoded data removed]",
      "text/plain": [
       "<Figure size 432x288 with 1 Axes>"
      ]
     },
     "metadata": {
      "needs_background": "light"
     },
     "output_type": "display_data"
    },
    {
     "data": {
      "image/png": "[encoded data removed]",
      "text/plain": [
       "<Figure size 432x288 with 1 Axes>"
      ]
     },
     "metadata": {
      "needs_background": "light"
     },
     "output_type": "display_data"
    }
   ],
   "source": [
    "for i in range(r+1):\n",
    "    plot_boxes_refined(root_FRS.collect_rs(i))"
   ]
  },
  {
   "cell_type": "code",
   "execution_count": 85,
   "metadata": {},
   "outputs": [
    {
     "data": {
      "image/png": "[encoded data removed]",
      "text/plain": [
       "<Figure size 432x288 with 1 Axes>"
      ]
     },
     "metadata": {
      "needs_background": "light"
     },
     "output_type": "display_data"
    },
    {
     "data": {
      "image/png": "[encoded data removed]",
      "text/plain": [
       "<Figure size 432x288 with 1 Axes>"
      ]
     },
     "metadata": {
      "needs_background": "light"
     },
     "output_type": "display_data"
    },
    {
     "data": {
      "image/png": "[encoded data removed]",
      "text/plain": [
       "<Figure size 432x288 with 1 Axes>"
      ]
     },
     "metadata": {
      "needs_background": "light"
     },
     "output_type": "display_data"
    },
    {
     "data": {
      "image/png": "[encoded data removed]",
      "text/plain": [
       "<Figure size 432x288 with 1 Axes>"
      ]
     },
     "metadata": {
      "needs_background": "light"
     },
     "output_type": "display_data"
    }
   ],
   "source": [
    "for i in range(4):\n",
    "    plot_boxes_refined_final(root_FRS.collect_rs(i))"
   ]
  },
  {
   "cell_type": "code",
   "execution_count": 86,
   "metadata": {},
   "outputs": [],
   "source": [
    "# [b[-1] for b in root_FRS.collect_rs(0)]"
   ]
  },
  {
   "cell_type": "code",
   "execution_count": 87,
   "metadata": {},
   "outputs": [],
   "source": [
    "# [b[-1] for b in root_FRS.collect_rs(1)]"
   ]
  },
  {
   "cell_type": "code",
   "execution_count": 88,
   "metadata": {},
   "outputs": [
    {
     "data": {
      "image/png": "[encoded data removed]",
      "text/plain": [
       "<Figure size 432x288 with 1 Axes>"
      ]
     },
     "metadata": {
      "needs_background": "light"
     },
     "output_type": "display_data"
    },
    {
     "data": {
      "image/png": "[encoded data removed]",
      "text/plain": [
       "<Figure size 432x288 with 1 Axes>"
      ]
     },
     "metadata": {
      "needs_background": "light"
     },
     "output_type": "display_data"
    },
    {
     "data": {
      "image/png": "[encoded data removed]",
      "text/plain": [
       "<Figure size 432x288 with 1 Axes>"
      ]
     },
     "metadata": {
      "needs_background": "light"
     },
     "output_type": "display_data"
    },
    {
     "data": {
      "image/png": "[encoded data removed]",
      "text/plain": [
       "<Figure size 432x288 with 1 Axes>"
      ]
     },
     "metadata": {
      "needs_background": "light"
     },
     "output_type": "display_data"
    }
   ],
   "source": [
    "for i in range(4):\n",
    "    plot_boxes_refined_initial(root_FRS.collect_rs(i))"
   ]
  },
  {
   "cell_type": "markdown",
   "metadata": {},
   "source": [
    "## Old Approach"
   ]
  },
  {
   "cell_type": "code",
   "execution_count": null,
   "metadata": {},
   "outputs": [],
   "source": [
    "T = 10\n",
    "a, b, c, d, l, m = 1, 1, 1, 1, 1, 1\n",
    "dt = 0.1\n",
    "A_init = torch.tensor([[1.,0.],[-1.,0.],[0.,1.],[0.,-1.]], requires_grad=False)\n",
    "b_init = torch.tensor([[1+0.01],[-(1-0.01)],[1+0.01],[-(1-0.01)]], requires_grad=True)\n",
    "\n",
    "constraints = {}\n",
    "boxes = []\n",
    "\n",
    "a_x_lower, b_x_lower, c_x_lower = 1, 0, 0\n",
    "a_x_upper, b_x_upper, c_x_upper = 1, 0, 0\n",
    "a_y_lower, b_y_lower, c_y_lower = 0, 1, 0\n",
    "a_y_upper, b_y_upper, c_y_upper = 0, 1, 0\n",
    "\n",
    "A_0 = torch.tensor([[1.,0., -1.*a_x_upper, -1.*b_x_upper],\n",
    "                       [-1.,0., a_x_lower, b_x_lower],\n",
    "                       [0.,1., -1.*a_y_upper, -1.*b_y_upper],\n",
    "                       [0.,-1., a_y_lower, b_y_lower]], requires_grad=True)\n",
    "b_0 = torch.tensor([[c_x_upper],[-1.*c_x_lower],[c_y_upper],[-1.*c_y_lower]], requires_grad=True)\n",
    "\n",
    "constraints[0] = (A_0,b_0)"
   ]
  },
  {
   "cell_type": "code",
   "execution_count": 65,
   "metadata": {},
   "outputs": [],
   "source": [
    "for t in range(1,T):\n",
    "    \n",
    "    # Construct constraints to calculate bounds on previous variables x_{t-1}, y_{t-1}\n",
    "    A_prev, b_prev = constraints[t-1]\n",
    "    z = torch.zeros((4,2))\n",
    "    A_freund = torch.vstack((torch.hstack((z,A_init)),A_prev))\n",
    "    b_freund = torch.vstack((b_init,b_prev))\n",
    "    \n",
    "    c_x = np.array([[1,0,0,0]]).T\n",
    "    c_y = np.array([[0,1,0,0]]).T\n",
    "    x_prev_lower, x_prev_upper = -1.*freund(A_freund,b_freund,-1.*c_x), freund(A_freund,b_freund,c_x) # minimize and maximize x_i\n",
    "    y_prev_lower, y_prev_upper = -1.*freund(A_freund,b_freund,-1.*c_y), freund(A_freund,b_freund,c_y) # minimize and maximize y_i\n",
    "    \n",
    "    boxes.append(([x_prev_lower, x_prev_upper],[y_prev_lower, y_prev_upper]))\n",
    "    \n",
    "    # Calculate coefficients of x_t/y_t \\leq a x_{t-1} + ...\n",
    "#     a_x_t_lower, b_x_t_lower, c_x_t_lower\n",
    "    \n",
    "    a_x_t_lower, b_x_t_lower, c_x_t_lower = a*dt + 1 - y_prev_lower*b*dt - l*dt*2*x_prev_upper, -b*dt*x_prev_upper, b*dt*x_prev_upper*y_prev_lower - l*dt*x_prev_upper*x_prev_lower\n",
    "    a_x_t_upper, b_x_t_upper, c_x_t_upper = a*dt + 1 - y_prev_upper*b*dt - l*dt*2*x_prev_upper, -b*dt*x_prev_upper, b*dt*x_prev_upper*y_prev_upper + l*dt*x_prev_upper*x_prev_upper\n",
    "    a_y_t_lower, b_y_t_lower, c_y_t_lower = c*dt*y_prev_upper, c*dt*x_prev_upper + 1 - d*dt - dt*m*y_prev_upper - dt*m*y_prev_lower, dt*m*y_prev_upper*y_prev_lower - c*dt*x_prev_upper*y_prev_upper\n",
    "    a_y_t_upper, b_y_t_upper, c_y_t_upper = c*dt*y_prev_lower, c*dt*x_prev_upper + 1 - d*dt - 2*dt*m*y_prev_upper, dt*m*y_prev_upper*y_prev_upper - c*dt*x_prev_upper*y_prev_lower\n",
    "    \n",
    "    a_x_lower_prev, b_x_lower_prev, c_x_lower_prev = A_prev[1,2], A_prev[1,3], -1.*b_prev[1,0]\n",
    "    a_x_upper_prev, b_x_upper_prev, c_x_upper_prev = -1.*A_prev[0,2], -1.*A_prev[0,3], b_prev[0,0]\n",
    "    a_y_lower_prev, b_y_lower_prev, c_y_lower_prev = A_prev[3,2], A_prev[3,3], -1.*b_prev[3,0]\n",
    "    a_y_upper_prev, b_y_upper_prev, c_y_upper_prev = -1.*A_prev[2,2], -1.*A_prev[2,3], b_prev[2,0]\n",
    "    \n",
    "    # Calculate coefficients wrt x_0/y_0\n",
    "    a_x_lower, b_x_lower, c_x_lower = [a_x_t_lower*(a_x_lower_prev if a_x_t_lower > 0 else a_x_upper_prev) + b_x_t_lower*(a_y_lower_prev if b_x_t_lower > 0 else a_y_upper_prev),\n",
    "                                        a_x_t_lower*(b_x_lower_prev if a_x_t_lower > 0 else b_x_upper_prev) + b_x_t_lower*(b_y_lower_prev if b_x_t_lower > 0 else b_y_upper_prev),\n",
    "                                        c_x_t_lower + a_x_t_lower*(c_x_lower_prev if a_x_t_lower > 0 else c_x_upper_prev) + b_x_t_lower*(c_y_lower_prev if b_x_t_lower > 0 else c_y_upper_prev)]\n",
    "            \n",
    "    a_x_upper, b_x_upper, c_x_upper = [a_x_t_upper*(a_x_lower_prev if a_x_t_upper <= 0 else a_x_upper_prev) + b_x_t_upper*(a_y_lower_prev if b_x_t_upper <= 0 else a_y_upper_prev),\n",
    "                                        a_x_t_upper*(b_x_lower_prev if a_x_t_upper <= 0 else b_x_upper_prev) + b_x_t_upper*(b_y_lower_prev if b_x_t_upper <= 0 else b_y_upper_prev),\n",
    "                                        c_x_t_upper + a_x_t_upper*(c_x_lower_prev if a_x_t_upper <= 0 else c_x_upper_prev) + b_x_t_upper*(c_y_lower_prev if b_x_t_upper <= 0 else c_y_upper_prev)]\n",
    "            \n",
    "    a_y_lower, b_y_lower, c_y_lower = [a_y_t_lower*(a_x_lower_prev if a_y_t_lower > 0 else a_x_upper_prev) + b_y_t_lower*(a_y_lower_prev if b_y_t_lower > 0 else a_y_upper_prev),\n",
    "                                        a_y_t_lower*(b_x_lower_prev if a_y_t_lower > 0 else b_x_upper_prev) + b_y_t_lower*(b_y_lower_prev if b_y_t_lower > 0 else b_y_upper_prev),\n",
    "                                        c_y_t_lower + a_y_t_lower*(c_x_lower_prev if a_y_t_lower > 0 else c_x_upper_prev) + b_y_t_lower*(c_y_lower_prev if b_y_t_lower > 0 else c_y_upper_prev)]\n",
    "            \n",
    "    a_y_upper, b_y_upper, c_y_upper = [a_y_t_upper*(a_x_lower_prev if a_y_t_upper <= 0 else a_x_upper_prev) + b_y_t_upper*(a_y_lower_prev if b_y_t_upper <= 0 else a_y_upper_prev),\n",
    "                                        a_y_t_upper*(b_x_lower_prev if a_y_t_upper <= 0 else b_x_upper_prev) + b_y_t_upper*(b_y_lower_prev if b_y_t_upper <= 0 else b_y_upper_prev),\n",
    "                                        c_y_t_upper + a_y_t_upper*(c_x_lower_prev if a_y_t_upper <= 0 else c_x_upper_prev) + b_y_t_upper*(c_y_lower_prev if b_y_t_upper <= 0 else c_y_upper_prev)]\n",
    "    \n",
    "    A_i = torch.tensor([[1.,0., -1.*a_x_upper, -1.*b_x_upper],\n",
    "                       [-1.,0., a_x_lower, b_x_lower],\n",
    "                       [0.,1., -1.*a_y_upper, -1.*b_y_upper],\n",
    "                       [0.,-1., a_y_lower, b_y_lower]], requires_grad=True)\n",
    "    b_i = torch.tensor([[c_x_upper],[-1.*c_x_lower],[c_y_upper],[-1.*c_y_lower]], requires_grad=True)\n",
    "    \n",
    "    constraints[t] = (A_i,b_i)"
   ]
  },
  {
   "cell_type": "code",
   "execution_count": 66,
   "metadata": {},
   "outputs": [],
   "source": [
    "def plot_boxes_2d_torch(boxes):\n",
    "    plt.figure()\n",
    "    for i in range(len(boxes)):\n",
    "        box = boxes[i]\n",
    "        xL, xU = box[0]\n",
    "        yL, yU = box[1]\n",
    "        xL, xU = xL.detach().numpy(), xU.detach().numpy()\n",
    "        yL, yU = yL.detach().numpy(), yU.detach().numpy()\n",
    "        plt.plot([xL,xL,xU,xU,xL],[yL,yU,yU,yL,yL],'k')\n",
    "    plt.show()"
   ]
  },
  {
   "cell_type": "code",
   "execution_count": 67,
   "metadata": {},
   "outputs": [
    {
     "data": {
      "image/png": "[encoded data removed]",
      "text/plain": [
       "<Figure size 432x288 with 1 Axes>"
      ]
     },
     "metadata": {
      "needs_background": "light"
     },
     "output_type": "display_data"
    }
   ],
   "source": [
    "plot_boxes_2d_torch(boxes)"
   ]
  },
  {
   "cell_type": "code",
   "execution_count": 68,
   "metadata": {},
   "outputs": [
    {
     "data": {
      "text/plain": [
       "[([tensor(0.9900, dtype=torch.float64, grad_fn=<MulBackward0>),\n",
       "   tensor(1.0100, dtype=torch.float64, grad_fn=<FreundBackward>)],\n",
       "  [tensor(0.9900, dtype=torch.float64, grad_fn=<MulBackward0>),\n",
       "   tensor(1.0100, dtype=torch.float64, grad_fn=<FreundBackward>)]),\n",
       " ([tensor(0.6890, dtype=torch.float64, grad_fn=<MulBackward0>),\n",
       "   tensor(0.9090, dtype=torch.float64, grad_fn=<FreundBackward>)],\n",
       "  [tensor(0.8910, dtype=torch.float64, grad_fn=<MulBackward0>),\n",
       "   tensor(0.9090, dtype=torch.float64, grad_fn=<FreundBackward>)]),\n",
       " ([tensor(0.5072, dtype=torch.float64, grad_fn=<MulBackward0>),\n",
       "   tensor(0.8361, dtype=torch.float64, grad_fn=<FreundBackward>)],\n",
       "  [tensor(0.7837, dtype=torch.float64, grad_fn=<MulBackward0>),\n",
       "   tensor(0.8179, dtype=torch.float64, grad_fn=<FreundBackward>)]),\n",
       " ([tensor(0.3883, dtype=torch.float64, grad_fn=<MulBackward0>),\n",
       "   tensor(0.7840, dtype=torch.float64, grad_fn=<FreundBackward>)],\n",
       "  [tensor(0.6828, dtype=torch.float64, grad_fn=<MulBackward0>),\n",
       "   tensor(0.7374, dtype=torch.float64, grad_fn=<FreundBackward>)]),\n",
       " ([tensor(0.3053, dtype=torch.float64, grad_fn=<MulBackward0>),\n",
       "   tensor(0.7471, dtype=torch.float64, grad_fn=<FreundBackward>)],\n",
       "  [tensor(0.5925, dtype=torch.float64, grad_fn=<MulBackward0>),\n",
       "   tensor(0.6668, dtype=torch.float64, grad_fn=<FreundBackward>)]),\n",
       " ([tensor(0.2440, dtype=torch.float64, grad_fn=<MulBackward0>),\n",
       "   tensor(0.7215, dtype=torch.float64, grad_fn=<FreundBackward>)],\n",
       "  [tensor(0.5132, dtype=torch.float64, grad_fn=<MulBackward0>),\n",
       "   tensor(0.6053, dtype=torch.float64, grad_fn=<FreundBackward>)]),\n",
       " ([tensor(0.1967, dtype=torch.float64, grad_fn=<MulBackward0>),\n",
       "   tensor(0.7043, dtype=torch.float64, grad_fn=<FreundBackward>)],\n",
       "  [tensor(0.4439, dtype=torch.float64, grad_fn=<MulBackward0>),\n",
       "   tensor(0.5515, dtype=torch.float64, grad_fn=<FreundBackward>)]),\n",
       " ([tensor(0.1587, dtype=torch.float64, grad_fn=<MulBackward0>),\n",
       "   tensor(0.6936, dtype=torch.float64, grad_fn=<FreundBackward>)],\n",
       "  [tensor(0.3833, dtype=torch.float64, grad_fn=<MulBackward0>),\n",
       "   tensor(0.5046, dtype=torch.float64, grad_fn=<FreundBackward>)]),\n",
       " ([tensor(0.1273, dtype=torch.float64, grad_fn=<MulBackward0>),\n",
       "   tensor(0.6880, dtype=torch.float64, grad_fn=<FreundBackward>)],\n",
       "  [tensor(0.3301, dtype=torch.float64, grad_fn=<MulBackward0>),\n",
       "   tensor(0.4635, dtype=torch.float64, grad_fn=<FreundBackward>)])]"
      ]
     },
     "execution_count": 68,
     "metadata": {},
     "output_type": "execute_result"
    }
   ],
   "source": [
    "boxes"
   ]
  },
  {
   "cell_type": "code",
   "execution_count": 69,
   "metadata": {},
   "outputs": [
    {
     "name": "stdout",
     "output_type": "stream",
     "text": [
      "tensor([[3.1937e-06],\n",
      "        [1.0291e-06],\n",
      "        [4.4097e-07],\n",
      "        [7.2741e-07]])\n"
     ]
    }
   ],
   "source": [
    "A_final, b_final = constraints[T-1]\n",
    "z = torch.zeros((4,2))\n",
    "A_freund = torch.vstack((torch.hstack((z,A_init)),A_final))\n",
    "b_freund = torch.vstack((b_init,b_final))\n",
    "c = np.array([[1,1,0,0]]).T\n",
    "y = freund(A_freund,b_freund,c)\n",
    "y.backward()\n",
    "print(b_init.grad)"
   ]
  },
  {
   "cell_type": "code",
   "execution_count": 70,
   "metadata": {},
   "outputs": [
    {
     "data": {
      "text/plain": [
       "0"
      ]
     },
     "execution_count": 70,
     "metadata": {},
     "output_type": "execute_result"
    }
   ],
   "source": [
    "np.argmax(np.abs(b_init.grad.numpy()))"
   ]
  },
  {
   "cell_type": "code",
   "execution_count": null,
   "metadata": {},
   "outputs": [],
   "source": []
  }
 ],
 "metadata": {
  "kernelspec": {
   "display_name": "Python 3",
   "language": "python",
   "name": "python3"
  },
  "language_info": {
   "codemirror_mode": {
    "name": "ipython",
    "version": 3
   },
   "file_extension": ".py",
   "mimetype": "text/x-python",
   "name": "python",
   "nbconvert_exporter": "python",
   "pygments_lexer": "ipython3",
   "version": "3.7.4"
  }
 },
 "nbformat": 4,
 "nbformat_minor": 4
}
